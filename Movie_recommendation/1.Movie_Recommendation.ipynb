{
 "cells": [
  {
   "cell_type": "markdown",
   "metadata": {},
   "source": [
    "# Content-based Recommendation System: IMDB Movies"
   ]
  },
  {
   "cell_type": "markdown",
   "metadata": {},
   "source": [
    "**Project:** a recommendation system to find similar movies based on data related to movie content only and not on movie popularity or critical reception\n",
    "\n",
    "We will build a *resemblance space* based on categorical variables only. My goal is to focus on the choice of the right distance metric in this particular case and to address the issues related to distances computation on a sparse dataset. I will show the importance of data standardization and data transformation methods in distance computations.\n",
    "\n",
    "----------------------\n",
    "*(For a more complete exploration of data standardization, transformation and distance assessment, please see the companion notebook in this repository: [Distance_Assessment](2.Annex_Distance_assessment.ipynb))*\n",
    "\n",
    "----------------------------------"
   ]
  },
  {
   "cell_type": "code",
   "execution_count": 1,
   "metadata": {},
   "outputs": [],
   "source": [
    "import pandas as pd\n",
    "import numpy as np\n",
    "%matplotlib inline\n",
    "import matplotlib.pyplot as plt"
   ]
  },
  {
   "cell_type": "code",
   "execution_count": 2,
   "metadata": {},
   "outputs": [
    {
     "name": "stdout",
     "output_type": "stream",
     "text": [
      "dataset shape:  (4645, 24) \n",
      "\n",
      "Variables: \n",
      " Index(['index', 'color', 'director_name', 'num_critic_for_reviews', 'duration',\n",
      "       'director_facebook_likes', 'actor_3_facebook_likes', 'actor_2_name',\n",
      "       'actor_1_facebook_likes', 'genres', 'actor_1_name', 'movie_title',\n",
      "       'num_voted_users', 'cast_total_facebook_likes', 'actor_3_name',\n",
      "       'plot_keywords', 'movie_imdb_link', 'num_user_for_reviews', 'country',\n",
      "       'content_rating', 'title_year', 'actor_2_facebook_likes', 'imdb_score',\n",
      "       'movie_facebook_likes'],\n",
      "      dtype='object')\n"
     ]
    }
   ],
   "source": [
    "donnees = pd.read_csv('donnees2.csv',sep=';', \n",
    "                       encoding='utf-8',index_col=0)\n",
    "print('dataset shape: ',donnees.shape, '\\n')\n",
    "print('Variables: \\n', donnees.columns)"
   ]
  },
  {
   "cell_type": "markdown",
   "metadata": {},
   "source": [
    "The dataset comes from IMDB. It was already cleaned for this project and available for demonstration in this repository.\n",
    "Part of the variables describes  the interest for the movie among users of the site (e.g. number of users who voted on the site) or the critical reception of the movie (e.g. IMDB score).\n",
    "\n",
    "Here I want to focus only on the movie content and I select only variables related to\n",
    "- Names of directors and main actors\n",
    "- broad genre (eg Adventure, Drama etc) and official content rating (eg PG-13)\n",
    "- plot keywords\n"
   ]
  },
  {
   "cell_type": "code",
   "execution_count": 3,
   "metadata": {},
   "outputs": [
    {
     "data": {
      "text/html": [
       "<div>\n",
       "<style scoped>\n",
       "    .dataframe tbody tr th:only-of-type {\n",
       "        vertical-align: middle;\n",
       "    }\n",
       "\n",
       "    .dataframe tbody tr th {\n",
       "        vertical-align: top;\n",
       "    }\n",
       "\n",
       "    .dataframe thead th {\n",
       "        text-align: right;\n",
       "    }\n",
       "</style>\n",
       "<table border=\"1\" class=\"dataframe\">\n",
       "  <thead>\n",
       "    <tr style=\"text-align: right;\">\n",
       "      <th></th>\n",
       "      <th>director_name</th>\n",
       "      <th>content_rating</th>\n",
       "      <th>genres</th>\n",
       "      <th>plot_keywords</th>\n",
       "      <th>actor_1_name</th>\n",
       "      <th>actor_2_name</th>\n",
       "      <th>actor_3_name</th>\n",
       "    </tr>\n",
       "  </thead>\n",
       "  <tbody>\n",
       "    <tr>\n",
       "      <th>0</th>\n",
       "      <td>James Cameron</td>\n",
       "      <td>PG-13</td>\n",
       "      <td>Action|Adventure|Fantasy|Sci-Fi</td>\n",
       "      <td>avatar|future|marine|native|paraplegic</td>\n",
       "      <td>CCH Pounder</td>\n",
       "      <td>Joel David Moore</td>\n",
       "      <td>Wes Studi</td>\n",
       "    </tr>\n",
       "    <tr>\n",
       "      <th>1</th>\n",
       "      <td>Gore Verbinski</td>\n",
       "      <td>PG-13</td>\n",
       "      <td>Action|Adventure|Fantasy</td>\n",
       "      <td>goddess|marriage ceremony|marriage proposal|pi...</td>\n",
       "      <td>Johnny Depp</td>\n",
       "      <td>Orlando Bloom</td>\n",
       "      <td>Jack Davenport</td>\n",
       "    </tr>\n",
       "    <tr>\n",
       "      <th>2</th>\n",
       "      <td>Sam Mendes</td>\n",
       "      <td>PG-13</td>\n",
       "      <td>Action|Adventure|Thriller</td>\n",
       "      <td>bomb|espionage|sequel|spy|terrorist</td>\n",
       "      <td>Christoph Waltz</td>\n",
       "      <td>Rory Kinnear</td>\n",
       "      <td>Stephanie Sigman</td>\n",
       "    </tr>\n",
       "    <tr>\n",
       "      <th>3</th>\n",
       "      <td>Christopher Nolan</td>\n",
       "      <td>PG-13</td>\n",
       "      <td>Action|Thriller</td>\n",
       "      <td>deception|imprisonment|lawlessness|police offi...</td>\n",
       "      <td>Tom Hardy</td>\n",
       "      <td>Christian Bale</td>\n",
       "      <td>Joseph Gordon-Levitt</td>\n",
       "    </tr>\n",
       "    <tr>\n",
       "      <th>4</th>\n",
       "      <td>Andrew Stanton</td>\n",
       "      <td>PG-13</td>\n",
       "      <td>Action|Adventure|Sci-Fi</td>\n",
       "      <td>alien|american civil war|male nipple|mars|prin...</td>\n",
       "      <td>Daryl Sabara</td>\n",
       "      <td>Samantha Morton</td>\n",
       "      <td>Polly Walker</td>\n",
       "    </tr>\n",
       "  </tbody>\n",
       "</table>\n",
       "</div>"
      ],
      "text/plain": [
       "       director_name content_rating                           genres  \\\n",
       "0      James Cameron          PG-13  Action|Adventure|Fantasy|Sci-Fi   \n",
       "1     Gore Verbinski          PG-13         Action|Adventure|Fantasy   \n",
       "2         Sam Mendes          PG-13        Action|Adventure|Thriller   \n",
       "3  Christopher Nolan          PG-13                  Action|Thriller   \n",
       "4     Andrew Stanton          PG-13          Action|Adventure|Sci-Fi   \n",
       "\n",
       "                                       plot_keywords     actor_1_name  \\\n",
       "0             avatar|future|marine|native|paraplegic      CCH Pounder   \n",
       "1  goddess|marriage ceremony|marriage proposal|pi...      Johnny Depp   \n",
       "2                bomb|espionage|sequel|spy|terrorist  Christoph Waltz   \n",
       "3  deception|imprisonment|lawlessness|police offi...        Tom Hardy   \n",
       "4  alien|american civil war|male nipple|mars|prin...     Daryl Sabara   \n",
       "\n",
       "       actor_2_name          actor_3_name  \n",
       "0  Joel David Moore             Wes Studi  \n",
       "1     Orlando Bloom        Jack Davenport  \n",
       "2      Rory Kinnear      Stephanie Sigman  \n",
       "3    Christian Bale  Joseph Gordon-Levitt  \n",
       "4   Samantha Morton          Polly Walker  "
      ]
     },
     "execution_count": 3,
     "metadata": {},
     "output_type": "execute_result"
    }
   ],
   "source": [
    "donnees[['director_name', 'content_rating', 'genres', 'plot_keywords', \n",
    "         'actor_1_name', 'actor_2_name', 'actor_3_name']].head()"
   ]
  },
  {
   "cell_type": "markdown",
   "metadata": {},
   "source": [
    "#### Can we assess similarities among movies based on the above informations only?\n",
    "\n",
    "The retained variables are categorical variables. To compute distances among movies based on these variables we'll encode the dataset to display the presence or absence of each feature (variable modality). We expect that the encoded dataset will have the following characterictics:\n",
    "- Binary data: values 0 (absence) or 1 (presence)\n",
    "- Sparse: Most part of the data will be zeros\n",
    "\n",
    "----------------------------------------------------\n"
   ]
  },
  {
   "cell_type": "markdown",
   "metadata": {},
   "source": [
    "# 1. Categorical variables processing"
   ]
  },
  {
   "cell_type": "code",
   "execution_count": 4,
   "metadata": {},
   "outputs": [],
   "source": [
    "from utils import extract_cat"
   ]
  },
  {
   "cell_type": "markdown",
   "metadata": {},
   "source": [
    "function *extract_cat()* relies on the CountVectorizer() function from sklearn to extract different keywords and discard separators.\n",
    "\n",
    "I chose the regular expression to preserve keywords as they were entered: they can be composed of one word or an expression with a few words and can potentially contain '.' or '-'\n",
    "\n",
    "The function returns a Dataframe with features in columns and their count per movies in lines"
   ]
  },
  {
   "cell_type": "code",
   "execution_count": 5,
   "metadata": {},
   "outputs": [
    {
     "name": "stdout",
     "output_type": "stream",
     "text": [
      "length vocabulary:  24\n",
      "vocabulary: \n",
      " {'action': 0, 'adventure': 1, 'fantasy': 9, 'sci-fi': 18, 'thriller': 21, 'romance': 17, 'animation': 2, 'comedy': 4, 'family': 8, 'musical': 14, 'mystery': 15, 'western': 23, 'drama': 7, 'history': 11, 'sport': 20, 'crime': 5, 'horror': 12, 'war': 22, 'biography': 3, 'music': 13, 'documentary': 6, 'news': 16, 'short': 19, 'film-noir': 10}\n"
     ]
    }
   ],
   "source": [
    "df_genres = extract_cat(donnees['genres'],token_pattern='[\\w-]+',\n",
    "                       verbose=True)"
   ]
  },
  {
   "cell_type": "code",
   "execution_count": 6,
   "metadata": {
    "scrolled": true
   },
   "outputs": [],
   "source": [
    "# Vocabulary length is 7982, verbose is set to False to avoid displaying the full list\n",
    "df_keywords = extract_cat(donnees['plot_keywords'],\n",
    "                          token_pattern='[\\w.\\-\\s]+', verbose=False)"
   ]
  },
  {
   "cell_type": "code",
   "execution_count": 7,
   "metadata": {},
   "outputs": [
    {
     "data": {
      "text/html": [
       "<div>\n",
       "<style scoped>\n",
       "    .dataframe tbody tr th:only-of-type {\n",
       "        vertical-align: middle;\n",
       "    }\n",
       "\n",
       "    .dataframe tbody tr th {\n",
       "        vertical-align: top;\n",
       "    }\n",
       "\n",
       "    .dataframe thead th {\n",
       "        text-align: right;\n",
       "    }\n",
       "</style>\n",
       "<table border=\"1\" class=\"dataframe\">\n",
       "  <thead>\n",
       "    <tr style=\"text-align: right;\">\n",
       "      <th></th>\n",
       "      <th>KW_ daughter</th>\n",
       "      <th>KW_ roll</th>\n",
       "      <th>KW_ school</th>\n",
       "      <th>KW_ soccer</th>\n",
       "      <th>KW_10 year old</th>\n",
       "      <th>KW_1000000 b.c.</th>\n",
       "      <th>KW_1190s</th>\n",
       "      <th>KW_12 step program</th>\n",
       "      <th>KW_12 year old</th>\n",
       "      <th>KW_12 year time span</th>\n",
       "      <th>...</th>\n",
       "      <th>KW_zodiac</th>\n",
       "      <th>KW_zodiac killer</th>\n",
       "      <th>KW_zoloft</th>\n",
       "      <th>KW_zombie</th>\n",
       "      <th>KW_zombie apocalypse</th>\n",
       "      <th>KW_zombie spoof</th>\n",
       "      <th>KW_zoo</th>\n",
       "      <th>KW_zookeeper</th>\n",
       "      <th>KW_zoologist</th>\n",
       "      <th>KW_zorro</th>\n",
       "    </tr>\n",
       "  </thead>\n",
       "  <tbody>\n",
       "    <tr>\n",
       "      <th>0</th>\n",
       "      <td>0</td>\n",
       "      <td>0</td>\n",
       "      <td>0</td>\n",
       "      <td>0</td>\n",
       "      <td>0</td>\n",
       "      <td>0</td>\n",
       "      <td>0</td>\n",
       "      <td>0</td>\n",
       "      <td>0</td>\n",
       "      <td>0</td>\n",
       "      <td>...</td>\n",
       "      <td>0</td>\n",
       "      <td>0</td>\n",
       "      <td>0</td>\n",
       "      <td>0</td>\n",
       "      <td>0</td>\n",
       "      <td>0</td>\n",
       "      <td>0</td>\n",
       "      <td>0</td>\n",
       "      <td>0</td>\n",
       "      <td>0</td>\n",
       "    </tr>\n",
       "    <tr>\n",
       "      <th>1</th>\n",
       "      <td>0</td>\n",
       "      <td>0</td>\n",
       "      <td>0</td>\n",
       "      <td>0</td>\n",
       "      <td>0</td>\n",
       "      <td>0</td>\n",
       "      <td>0</td>\n",
       "      <td>0</td>\n",
       "      <td>0</td>\n",
       "      <td>0</td>\n",
       "      <td>...</td>\n",
       "      <td>0</td>\n",
       "      <td>0</td>\n",
       "      <td>0</td>\n",
       "      <td>0</td>\n",
       "      <td>0</td>\n",
       "      <td>0</td>\n",
       "      <td>0</td>\n",
       "      <td>0</td>\n",
       "      <td>0</td>\n",
       "      <td>0</td>\n",
       "    </tr>\n",
       "    <tr>\n",
       "      <th>2</th>\n",
       "      <td>0</td>\n",
       "      <td>0</td>\n",
       "      <td>0</td>\n",
       "      <td>0</td>\n",
       "      <td>0</td>\n",
       "      <td>0</td>\n",
       "      <td>0</td>\n",
       "      <td>0</td>\n",
       "      <td>0</td>\n",
       "      <td>0</td>\n",
       "      <td>...</td>\n",
       "      <td>0</td>\n",
       "      <td>0</td>\n",
       "      <td>0</td>\n",
       "      <td>0</td>\n",
       "      <td>0</td>\n",
       "      <td>0</td>\n",
       "      <td>0</td>\n",
       "      <td>0</td>\n",
       "      <td>0</td>\n",
       "      <td>0</td>\n",
       "    </tr>\n",
       "    <tr>\n",
       "      <th>3</th>\n",
       "      <td>0</td>\n",
       "      <td>0</td>\n",
       "      <td>0</td>\n",
       "      <td>0</td>\n",
       "      <td>0</td>\n",
       "      <td>0</td>\n",
       "      <td>0</td>\n",
       "      <td>0</td>\n",
       "      <td>0</td>\n",
       "      <td>0</td>\n",
       "      <td>...</td>\n",
       "      <td>0</td>\n",
       "      <td>0</td>\n",
       "      <td>0</td>\n",
       "      <td>0</td>\n",
       "      <td>0</td>\n",
       "      <td>0</td>\n",
       "      <td>0</td>\n",
       "      <td>0</td>\n",
       "      <td>0</td>\n",
       "      <td>0</td>\n",
       "    </tr>\n",
       "    <tr>\n",
       "      <th>4</th>\n",
       "      <td>0</td>\n",
       "      <td>0</td>\n",
       "      <td>0</td>\n",
       "      <td>0</td>\n",
       "      <td>0</td>\n",
       "      <td>0</td>\n",
       "      <td>0</td>\n",
       "      <td>0</td>\n",
       "      <td>0</td>\n",
       "      <td>0</td>\n",
       "      <td>...</td>\n",
       "      <td>0</td>\n",
       "      <td>0</td>\n",
       "      <td>0</td>\n",
       "      <td>0</td>\n",
       "      <td>0</td>\n",
       "      <td>0</td>\n",
       "      <td>0</td>\n",
       "      <td>0</td>\n",
       "      <td>0</td>\n",
       "      <td>0</td>\n",
       "    </tr>\n",
       "  </tbody>\n",
       "</table>\n",
       "<p>5 rows × 7982 columns</p>\n",
       "</div>"
      ],
      "text/plain": [
       "   KW_ daughter  KW_ roll  KW_ school  KW_ soccer  KW_10 year old  \\\n",
       "0             0         0           0           0               0   \n",
       "1             0         0           0           0               0   \n",
       "2             0         0           0           0               0   \n",
       "3             0         0           0           0               0   \n",
       "4             0         0           0           0               0   \n",
       "\n",
       "   KW_1000000 b.c.  KW_1190s  KW_12 step program  KW_12 year old  \\\n",
       "0                0         0                   0               0   \n",
       "1                0         0                   0               0   \n",
       "2                0         0                   0               0   \n",
       "3                0         0                   0               0   \n",
       "4                0         0                   0               0   \n",
       "\n",
       "   KW_12 year time span    ...     KW_zodiac  KW_zodiac killer  KW_zoloft  \\\n",
       "0                     0    ...             0                 0          0   \n",
       "1                     0    ...             0                 0          0   \n",
       "2                     0    ...             0                 0          0   \n",
       "3                     0    ...             0                 0          0   \n",
       "4                     0    ...             0                 0          0   \n",
       "\n",
       "   KW_zombie  KW_zombie apocalypse  KW_zombie spoof  KW_zoo  KW_zookeeper  \\\n",
       "0          0                     0                0       0             0   \n",
       "1          0                     0                0       0             0   \n",
       "2          0                     0                0       0             0   \n",
       "3          0                     0                0       0             0   \n",
       "4          0                     0                0       0             0   \n",
       "\n",
       "   KW_zoologist  KW_zorro  \n",
       "0             0         0  \n",
       "1             0         0  \n",
       "2             0         0  \n",
       "3             0         0  \n",
       "4             0         0  \n",
       "\n",
       "[5 rows x 7982 columns]"
      ]
     },
     "execution_count": 7,
     "metadata": {},
     "output_type": "execute_result"
    }
   ],
   "source": [
    "#to avoid duplicate column names between different df\n",
    "df_keywords.columns = 'KW_' + df_keywords.columns\n",
    "df_keywords.head()"
   ]
  },
  {
   "cell_type": "code",
   "execution_count": null,
   "metadata": {},
   "outputs": [],
   "source": []
  },
  {
   "cell_type": "markdown",
   "metadata": {},
   "source": [
    "The 3 variables 'actor_1_name', 'actor_2_name', 'actor_3_name' are first regrouped in one single variable, then encoded to obtain a Dataframe 'df_actors' with the count of the different actors in a movie (disregarding if they were listed as the first, second or third actor on the cast list)"
   ]
  },
  {
   "cell_type": "code",
   "execution_count": 8,
   "metadata": {},
   "outputs": [],
   "source": [
    "def str_merge(dat):\n",
    "    string = donnees['actor_1_name']+\";\"+donnees['actor_2_name']+\";\"+\\\n",
    "    donnees['actor_3_name']\n",
    "    return string\n",
    "donnees['actors'] = str_merge(donnees[['actor_1_name','actor_2_name',\n",
    "                             'actor_3_name']])\n",
    "# Vocabulary length is 5887, verbose is set to False to avoid displaying the full list\n",
    "df_actors = extract_cat(donnees['actors'],\n",
    "                          token_pattern='[\\w.\\-\\s]+', verbose=False)"
   ]
  },
  {
   "cell_type": "markdown",
   "metadata": {},
   "source": [
    "Finally, we build a single dataset 'df_cat1'. The function *get_dummies* is used to encode the variables 'director_name' and 'content_rating'"
   ]
  },
  {
   "cell_type": "code",
   "execution_count": 9,
   "metadata": {},
   "outputs": [
    {
     "name": "stdout",
     "output_type": "stream",
     "text": [
      "df_cat1:  (4645, 16160)\n"
     ]
    },
    {
     "data": {
      "text/html": [
       "<div>\n",
       "<style scoped>\n",
       "    .dataframe tbody tr th:only-of-type {\n",
       "        vertical-align: middle;\n",
       "    }\n",
       "\n",
       "    .dataframe tbody tr th {\n",
       "        vertical-align: top;\n",
       "    }\n",
       "\n",
       "    .dataframe thead th {\n",
       "        text-align: right;\n",
       "    }\n",
       "</style>\n",
       "<table border=\"1\" class=\"dataframe\">\n",
       "  <thead>\n",
       "    <tr style=\"text-align: right;\">\n",
       "      <th></th>\n",
       "      <th>action</th>\n",
       "      <th>adventure</th>\n",
       "      <th>animation</th>\n",
       "      <th>biography</th>\n",
       "      <th>comedy</th>\n",
       "      <th>crime</th>\n",
       "      <th>documentary</th>\n",
       "      <th>drama</th>\n",
       "      <th>family</th>\n",
       "      <th>fantasy</th>\n",
       "      <th>...</th>\n",
       "      <th>director_name_Álex de la Iglesia</th>\n",
       "      <th>director_name_Émile Gaudreault</th>\n",
       "      <th>director_name_Éric Tessier</th>\n",
       "      <th>director_name_Étienne Faure</th>\n",
       "      <th>content_rating_G</th>\n",
       "      <th>content_rating_NC-17</th>\n",
       "      <th>content_rating_Not Rated</th>\n",
       "      <th>content_rating_PG</th>\n",
       "      <th>content_rating_PG-13</th>\n",
       "      <th>content_rating_R</th>\n",
       "    </tr>\n",
       "  </thead>\n",
       "  <tbody>\n",
       "    <tr>\n",
       "      <th>0</th>\n",
       "      <td>1</td>\n",
       "      <td>1</td>\n",
       "      <td>0</td>\n",
       "      <td>0</td>\n",
       "      <td>0</td>\n",
       "      <td>0</td>\n",
       "      <td>0</td>\n",
       "      <td>0</td>\n",
       "      <td>0</td>\n",
       "      <td>1</td>\n",
       "      <td>...</td>\n",
       "      <td>0</td>\n",
       "      <td>0</td>\n",
       "      <td>0</td>\n",
       "      <td>0</td>\n",
       "      <td>0</td>\n",
       "      <td>0</td>\n",
       "      <td>0</td>\n",
       "      <td>0</td>\n",
       "      <td>1</td>\n",
       "      <td>0</td>\n",
       "    </tr>\n",
       "    <tr>\n",
       "      <th>1</th>\n",
       "      <td>1</td>\n",
       "      <td>1</td>\n",
       "      <td>0</td>\n",
       "      <td>0</td>\n",
       "      <td>0</td>\n",
       "      <td>0</td>\n",
       "      <td>0</td>\n",
       "      <td>0</td>\n",
       "      <td>0</td>\n",
       "      <td>1</td>\n",
       "      <td>...</td>\n",
       "      <td>0</td>\n",
       "      <td>0</td>\n",
       "      <td>0</td>\n",
       "      <td>0</td>\n",
       "      <td>0</td>\n",
       "      <td>0</td>\n",
       "      <td>0</td>\n",
       "      <td>0</td>\n",
       "      <td>1</td>\n",
       "      <td>0</td>\n",
       "    </tr>\n",
       "    <tr>\n",
       "      <th>2</th>\n",
       "      <td>1</td>\n",
       "      <td>1</td>\n",
       "      <td>0</td>\n",
       "      <td>0</td>\n",
       "      <td>0</td>\n",
       "      <td>0</td>\n",
       "      <td>0</td>\n",
       "      <td>0</td>\n",
       "      <td>0</td>\n",
       "      <td>0</td>\n",
       "      <td>...</td>\n",
       "      <td>0</td>\n",
       "      <td>0</td>\n",
       "      <td>0</td>\n",
       "      <td>0</td>\n",
       "      <td>0</td>\n",
       "      <td>0</td>\n",
       "      <td>0</td>\n",
       "      <td>0</td>\n",
       "      <td>1</td>\n",
       "      <td>0</td>\n",
       "    </tr>\n",
       "    <tr>\n",
       "      <th>3</th>\n",
       "      <td>1</td>\n",
       "      <td>0</td>\n",
       "      <td>0</td>\n",
       "      <td>0</td>\n",
       "      <td>0</td>\n",
       "      <td>0</td>\n",
       "      <td>0</td>\n",
       "      <td>0</td>\n",
       "      <td>0</td>\n",
       "      <td>0</td>\n",
       "      <td>...</td>\n",
       "      <td>0</td>\n",
       "      <td>0</td>\n",
       "      <td>0</td>\n",
       "      <td>0</td>\n",
       "      <td>0</td>\n",
       "      <td>0</td>\n",
       "      <td>0</td>\n",
       "      <td>0</td>\n",
       "      <td>1</td>\n",
       "      <td>0</td>\n",
       "    </tr>\n",
       "    <tr>\n",
       "      <th>4</th>\n",
       "      <td>1</td>\n",
       "      <td>1</td>\n",
       "      <td>0</td>\n",
       "      <td>0</td>\n",
       "      <td>0</td>\n",
       "      <td>0</td>\n",
       "      <td>0</td>\n",
       "      <td>0</td>\n",
       "      <td>0</td>\n",
       "      <td>0</td>\n",
       "      <td>...</td>\n",
       "      <td>0</td>\n",
       "      <td>0</td>\n",
       "      <td>0</td>\n",
       "      <td>0</td>\n",
       "      <td>0</td>\n",
       "      <td>0</td>\n",
       "      <td>0</td>\n",
       "      <td>0</td>\n",
       "      <td>1</td>\n",
       "      <td>0</td>\n",
       "    </tr>\n",
       "  </tbody>\n",
       "</table>\n",
       "<p>5 rows × 16160 columns</p>\n",
       "</div>"
      ],
      "text/plain": [
       "   action  adventure  animation  biography  comedy  crime  documentary  drama  \\\n",
       "0       1          1          0          0       0      0            0      0   \n",
       "1       1          1          0          0       0      0            0      0   \n",
       "2       1          1          0          0       0      0            0      0   \n",
       "3       1          0          0          0       0      0            0      0   \n",
       "4       1          1          0          0       0      0            0      0   \n",
       "\n",
       "   family  fantasy        ...         director_name_Álex de la Iglesia  \\\n",
       "0       0        1        ...                                        0   \n",
       "1       0        1        ...                                        0   \n",
       "2       0        0        ...                                        0   \n",
       "3       0        0        ...                                        0   \n",
       "4       0        0        ...                                        0   \n",
       "\n",
       "   director_name_Émile Gaudreault  director_name_Éric Tessier  \\\n",
       "0                               0                           0   \n",
       "1                               0                           0   \n",
       "2                               0                           0   \n",
       "3                               0                           0   \n",
       "4                               0                           0   \n",
       "\n",
       "   director_name_Étienne Faure  content_rating_G  content_rating_NC-17  \\\n",
       "0                            0                 0                     0   \n",
       "1                            0                 0                     0   \n",
       "2                            0                 0                     0   \n",
       "3                            0                 0                     0   \n",
       "4                            0                 0                     0   \n",
       "\n",
       "   content_rating_Not Rated  content_rating_PG  content_rating_PG-13  \\\n",
       "0                         0                  0                     1   \n",
       "1                         0                  0                     1   \n",
       "2                         0                  0                     1   \n",
       "3                         0                  0                     1   \n",
       "4                         0                  0                     1   \n",
       "\n",
       "   content_rating_R  \n",
       "0                 0  \n",
       "1                 0  \n",
       "2                 0  \n",
       "3                 0  \n",
       "4                 0  \n",
       "\n",
       "[5 rows x 16160 columns]"
      ]
     },
     "metadata": {},
     "output_type": "display_data"
    }
   ],
   "source": [
    "df_cat1 = pd.concat([donnees[['director_name', 'content_rating']],\n",
    "                     df_genres, df_actors, df_keywords],axis=1)\n",
    "df_cat1 = pd.get_dummies(df_cat1)\n",
    "print('df_cat1: ', df_cat1.shape)\n",
    "display(df_cat1.head())"
   ]
  },
  {
   "cell_type": "markdown",
   "metadata": {},
   "source": [
    "### Comments on variables\n",
    "\n",
    "As expected the final dataset contains a large number of columns\n",
    "\n",
    "The two variables 'content_rating' and 'genres' have few modalities, most modalities being well represented in the dataset\n",
    "\n",
    "The other variables on the other hand ('director_name', 'actors', 'plot_keywords') are full of modalities poorly represented in the dataset, that's what is making our binary dataset so big... and so sparse!"
   ]
  },
  {
   "cell_type": "code",
   "execution_count": 10,
   "metadata": {},
   "outputs": [
    {
     "data": {
      "text/plain": [
       "R            2038\n",
       "PG-13        1394\n",
       "PG            682\n",
       "Not Rated     402\n",
       "G             110\n",
       "NC-17          19\n",
       "Name: content_rating, dtype: int64"
      ]
     },
     "execution_count": 10,
     "metadata": {},
     "output_type": "execute_result"
    }
   ],
   "source": [
    "donnees['content_rating'].value_counts()"
   ]
  },
  {
   "cell_type": "code",
   "execution_count": 11,
   "metadata": {},
   "outputs": [
    {
     "data": {
      "text/plain": [
       "action         1074\n",
       "adventure       863\n",
       "animation       227\n",
       "biography       285\n",
       "comedy         1772\n",
       "crime           820\n",
       "documentary      94\n",
       "drama          2384\n",
       "family          503\n",
       "fantasy         560\n",
       "film-noir         6\n",
       "history         192\n",
       "horror          518\n",
       "music           200\n",
       "musical         126\n",
       "mystery         449\n",
       "news              2\n",
       "romance        1047\n",
       "sci-fi          571\n",
       "short             4\n",
       "sport           176\n",
       "thriller       1306\n",
       "war             201\n",
       "western          89\n",
       "dtype: int64"
      ]
     },
     "execution_count": 11,
     "metadata": {},
     "output_type": "execute_result"
    }
   ],
   "source": [
    "df_genres.sum(axis=0)"
   ]
  },
  {
   "cell_type": "code",
   "execution_count": 12,
   "metadata": {},
   "outputs": [
    {
     "name": "stdout",
     "output_type": "stream",
     "text": [
      "Number of directors:  2261\n",
      "highest frequency:  26  (Steven Spielberg)\n",
      "Number of directors featured only once:  1403\n"
     ]
    }
   ],
   "source": [
    "tmp = donnees['director_name'].value_counts()\n",
    "print('Number of directors: ',len(tmp))\n",
    "print('highest frequency: ',max(tmp), ' ({})'.format(tmp.index[0]))\n",
    "print('Number of directors featured only once: ',len(tmp[tmp==1]))"
   ]
  },
  {
   "cell_type": "code",
   "execution_count": 13,
   "metadata": {},
   "outputs": [
    {
     "name": "stdout",
     "output_type": "stream",
     "text": [
      "Number of actors:  5887\n",
      "highest frequency:  53  (robert de niro)\n",
      "Number of actors featured only once:  3671\n"
     ]
    }
   ],
   "source": [
    "tmp = df_actors.sum(axis=0)\n",
    "print('Number of actors: ',len(tmp))\n",
    "print('highest frequency: ',max(tmp), ' ({})'.format(tmp.iloc[np.where(tmp==max(tmp))].index[0]))\n",
    "print('Number of actors featured only once: ',len(tmp[tmp==1]))"
   ]
  },
  {
   "cell_type": "code",
   "execution_count": 14,
   "metadata": {},
   "outputs": [
    {
     "name": "stdout",
     "output_type": "stream",
     "text": [
      "Number of keywordss:  7982\n",
      "highest frequency:  189  (KW_love)\n",
      "Number of keywords featured only once:  4995\n"
     ]
    }
   ],
   "source": [
    "tmp = df_keywords.sum(axis=0)\n",
    "print('Number of keywordss: ',len(tmp))\n",
    "print('highest frequency: ',max(tmp), ' ({})'.format(tmp.iloc[np.where(tmp==max(tmp))].index[0]))\n",
    "print('Number of keywords featured only once: ',len(tmp[tmp==1]))"
   ]
  },
  {
   "cell_type": "markdown",
   "metadata": {},
   "source": [
    "# Distance as a measure of difference in a sparse binary dataset\n",
    "\n",
    "After processing, we have a dataset of categorical variables (binary encoded) related to the content of the movies: names of realisator and actors, genre(s) and content rating, plus a few keywords for the plotline.\n",
    "\n",
    "Our dataset describes a content-based resemblance space where we would like to assess the similarities / differences among movies by their relative distances in the space. However we should consider a few more steps first: data standardization and transformation\n",
    "\n",
    "*(For a more complete exploration of data standardization, transformation and distance assessment, please see the companion notebook in this repository: [Distance_Assessment](2.Annex_Distance_assessment.ipynb))*"
   ]
  },
  {
   "cell_type": "markdown",
   "metadata": {},
   "source": [
    "# 2.Distances and data standardization\n",
    "\n",
    "Before diving into our dataset, let's assess the behavior of the Euclidean distance on this kind of binary dataset"
   ]
  },
  {
   "cell_type": "code",
   "execution_count": 15,
   "metadata": {},
   "outputs": [],
   "source": [
    "from sklearn.neighbors import NearestNeighbors"
   ]
  },
  {
   "cell_type": "code",
   "execution_count": 16,
   "metadata": {},
   "outputs": [],
   "source": [
    "def nn_results(df, n_neighbors=2, metric='euclidean', target=None):\n",
    "    '''Convenient function:\n",
    "    Fit a NearestNeighbors model\n",
    "    and shows the resulting neigbors with their distances to target'''\n",
    "    from sklearn.neighbors import NearestNeighbors\n",
    "    if target is None:\n",
    "        target = 0\n",
    "    NN1 = NearestNeighbors(n_neighbors=n_neighbors, algorithm='auto',\n",
    "                           metric=metric)\n",
    "    NN1.fit(df)\n",
    "    distances, neighb = NN1.kneighbors([np.array(df.iloc[target])],\n",
    "                                       return_distance=True)\n",
    "    print('Nearest neighbors: \\n', neighb)\n",
    "    print('Distances to target {}: \\n'.format(target), distances)\n",
    "    return neighb, distances"
   ]
  },
  {
   "cell_type": "code",
   "execution_count": 17,
   "metadata": {},
   "outputs": [
    {
     "data": {
      "text/html": [
       "<div>\n",
       "<style scoped>\n",
       "    .dataframe tbody tr th:only-of-type {\n",
       "        vertical-align: middle;\n",
       "    }\n",
       "\n",
       "    .dataframe tbody tr th {\n",
       "        vertical-align: top;\n",
       "    }\n",
       "\n",
       "    .dataframe thead th {\n",
       "        text-align: right;\n",
       "    }\n",
       "</style>\n",
       "<table border=\"1\" class=\"dataframe\">\n",
       "  <thead>\n",
       "    <tr style=\"text-align: right;\">\n",
       "      <th></th>\n",
       "      <th>Blue</th>\n",
       "      <th>Green</th>\n",
       "      <th>Red</th>\n",
       "      <th>Yellow</th>\n",
       "    </tr>\n",
       "  </thead>\n",
       "  <tbody>\n",
       "    <tr>\n",
       "      <th>0</th>\n",
       "      <td>1</td>\n",
       "      <td>0</td>\n",
       "      <td>1</td>\n",
       "      <td>0</td>\n",
       "    </tr>\n",
       "    <tr>\n",
       "      <th>1</th>\n",
       "      <td>0</td>\n",
       "      <td>0</td>\n",
       "      <td>0</td>\n",
       "      <td>1</td>\n",
       "    </tr>\n",
       "    <tr>\n",
       "      <th>2</th>\n",
       "      <td>1</td>\n",
       "      <td>0</td>\n",
       "      <td>0</td>\n",
       "      <td>1</td>\n",
       "    </tr>\n",
       "    <tr>\n",
       "      <th>3</th>\n",
       "      <td>1</td>\n",
       "      <td>1</td>\n",
       "      <td>0</td>\n",
       "      <td>1</td>\n",
       "    </tr>\n",
       "  </tbody>\n",
       "</table>\n",
       "</div>"
      ],
      "text/plain": [
       "   Blue  Green  Red  Yellow\n",
       "0     1      0    1       0\n",
       "1     0      0    0       1\n",
       "2     1      0    0       1\n",
       "3     1      1    0       1"
      ]
     },
     "metadata": {},
     "output_type": "display_data"
    }
   ],
   "source": [
    "df_test = pd.DataFrame({'Blue':[1,0,1,1], 'Red':[1,0,0,0],'Yellow':[0,1,1,1], 'Green': [0,0,0,1]})\n",
    "display(df_test)"
   ]
  },
  {
   "cell_type": "code",
   "execution_count": 18,
   "metadata": {},
   "outputs": [
    {
     "name": "stdout",
     "output_type": "stream",
     "text": [
      "Nearest neighbors: \n",
      " [[0 2 1 3]]\n",
      "Distances to target 0: \n",
      " [[0.         1.41421356 1.73205081 1.73205081]]\n"
     ]
    }
   ],
   "source": [
    "nn_results(df_test,n_neighbors=4);"
   ]
  },
  {
   "cell_type": "markdown",
   "metadata": {},
   "source": [
    "Here we'd like to compare 4 objects based on their colors. What happens if we use euclidean distances to look for similarities among our objects?\n",
    "\n",
    "The target object is blue and red\n",
    "\n",
    "The object 1 that shares no color with the target is considered as similar to the target than the object 3 that shares the color blue with the target but is also green... \n",
    "\n",
    "In our case, we'd rather say than the blue-green object is more similar to the blue-red object than the yellow object!\n",
    "\n",
    " With euclidean distances both double-presence (like blue for objects 0 and 3) and double-absence (like green for objects 0 and 1) count for a similarity.\n",
    "Only presence vs absence cases are counted as true differences and the euclidean distane is the square root of the number of true differences.\n"
   ]
  },
  {
   "cell_type": "code",
   "execution_count": 19,
   "metadata": {},
   "outputs": [
    {
     "name": "stdout",
     "output_type": "stream",
     "text": [
      "Nearest neighbors: \n",
      " [[0 2 3 1]]\n",
      "Distances to target 0: \n",
      " [[0.         1.         1.08788943 1.41421356]]\n"
     ]
    }
   ],
   "source": [
    "from utils import df_normalization\n",
    "df_test_normed = df_normalization(df_test)\n",
    "nn_results(df_test_normed,n_neighbors=4, metric='euclidean');"
   ]
  },
  {
   "cell_type": "code",
   "execution_count": 20,
   "metadata": {},
   "outputs": [
    {
     "data": {
      "text/html": [
       "<div>\n",
       "<style scoped>\n",
       "    .dataframe tbody tr th:only-of-type {\n",
       "        vertical-align: middle;\n",
       "    }\n",
       "\n",
       "    .dataframe tbody tr th {\n",
       "        vertical-align: top;\n",
       "    }\n",
       "\n",
       "    .dataframe thead th {\n",
       "        text-align: right;\n",
       "    }\n",
       "</style>\n",
       "<table border=\"1\" class=\"dataframe\">\n",
       "  <thead>\n",
       "    <tr style=\"text-align: right;\">\n",
       "      <th></th>\n",
       "      <th>Blue</th>\n",
       "      <th>Green</th>\n",
       "      <th>Red</th>\n",
       "      <th>Yellow</th>\n",
       "    </tr>\n",
       "  </thead>\n",
       "  <tbody>\n",
       "    <tr>\n",
       "      <th>0</th>\n",
       "      <td>0.707107</td>\n",
       "      <td>0.00000</td>\n",
       "      <td>0.707107</td>\n",
       "      <td>0.000000</td>\n",
       "    </tr>\n",
       "    <tr>\n",
       "      <th>1</th>\n",
       "      <td>0.000000</td>\n",
       "      <td>0.00000</td>\n",
       "      <td>0.000000</td>\n",
       "      <td>1.000000</td>\n",
       "    </tr>\n",
       "    <tr>\n",
       "      <th>2</th>\n",
       "      <td>0.707107</td>\n",
       "      <td>0.00000</td>\n",
       "      <td>0.000000</td>\n",
       "      <td>0.707107</td>\n",
       "    </tr>\n",
       "    <tr>\n",
       "      <th>3</th>\n",
       "      <td>0.577350</td>\n",
       "      <td>0.57735</td>\n",
       "      <td>0.000000</td>\n",
       "      <td>0.577350</td>\n",
       "    </tr>\n",
       "  </tbody>\n",
       "</table>\n",
       "</div>"
      ],
      "text/plain": [
       "       Blue    Green       Red    Yellow\n",
       "0  0.707107  0.00000  0.707107  0.000000\n",
       "1  0.000000  0.00000  0.000000  1.000000\n",
       "2  0.707107  0.00000  0.000000  0.707107\n",
       "3  0.577350  0.57735  0.000000  0.577350"
      ]
     },
     "execution_count": 20,
     "metadata": {},
     "output_type": "execute_result"
    }
   ],
   "source": [
    "df_test_normed"
   ]
  },
  {
   "cell_type": "markdown",
   "metadata": {},
   "source": [
    "Normalizing the data (makes the sum of squares by lines equal to 1) before calculating Euclidean distances is a way to obtain a result similar to Jaccard's distance: The double-absences aren't considered in the distance computation.\n",
    "\n",
    "Now, the object 1 that shares no color with the target is consistently credited with the greatest distance to the target."
   ]
  },
  {
   "cell_type": "markdown",
   "metadata": {},
   "source": [
    "### Let's see how it applies to our movie dataset\n",
    "\n",
    "We will look after the nearest neighbors of the movie *Pulp Fiction* (number 3200 in the index).\n",
    "![PulpFiction_pic](pulp_fiction.png)\n",
    "\n",
    "We fit two different NearestNeighbors() models: euclidean distances on data without (baseline) and with standardization."
   ]
  },
  {
   "cell_type": "code",
   "execution_count": 21,
   "metadata": {},
   "outputs": [
    {
     "data": {
      "text/plain": [
       "NearestNeighbors(algorithm='auto', leaf_size=30, metric='euclidean',\n",
       "                 metric_params=None, n_jobs=None, n_neighbors=26, p=2,\n",
       "                 radius=1.0)"
      ]
     },
     "execution_count": 21,
     "metadata": {},
     "output_type": "execute_result"
    }
   ],
   "source": [
    "## Baseline model: raw data\n",
    "NN1 = NearestNeighbors(n_neighbors=26, algorithm='auto', metric='euclidean')\n",
    "NN1.fit(df_cat1)\n",
    "\n",
    "##model with data standardization only\n",
    "NN2 = NearestNeighbors(n_neighbors=26, algorithm='auto', metric='euclidean')\n",
    "NN2.fit(df_normalization(df_cat1))"
   ]
  },
  {
   "cell_type": "markdown",
   "metadata": {},
   "source": [
    "Let's define a function that we will use a few times to compare different methods"
   ]
  },
  {
   "cell_type": "code",
   "execution_count": 22,
   "metadata": {},
   "outputs": [],
   "source": [
    "def plot_comparison(nn1, dd1, nn2, dd2, lab1='NN1', lab2='NN2', n_movies = 15):\n",
    "    '''Convenient plotting function\n",
    "    for comparison of 2 lists of movies\n",
    "    from two Nearest Neighbors models'''\n",
    "    \n",
    "    fig = plt.figure(figsize=(15,n_movies*0.6))\n",
    "    \n",
    "\n",
    "    plt.subplot2grid((2, 6), (0, 0),colspan=2)\n",
    "    plt.barh(range(n_movies),dd1.flatten()[:n_movies] ,color='green')\n",
    "    plt.xscale('log')\n",
    "    plt.xlabel('Distances (log scale)')\n",
    "    plt.ylabel('Ranks')\n",
    "    plt.title('NN Model {}'.format(lab1))\n",
    "    \n",
    "    plt.subplot2grid((2, 6), (0, 2))\n",
    "    max_d = 0.1#(round(max(dd1.flatten()))+0.2)\n",
    "    [plt.text(max_d,y,donnees.iloc[nn1.flatten()[y]]['movie_title']) for y in range(n_movies) ]\n",
    "    plt.axis([0,100,-1,n_movies])\n",
    "    plt.title('Movies') # just to adapt fig height compared to neighbors\n",
    "    plt.axis('off')\n",
    "    \n",
    "    plt.subplot2grid((2, 6), (0, 3),colspan=2)\n",
    "    plt.barh(range(n_movies),dd2.flatten()[:n_movies] ,color='orange')\n",
    "    plt.xscale('log')\n",
    "    plt.xlabel('Distances (log scale)')\n",
    "    plt.ylabel('Ranks')\n",
    "    plt.title('NN Model {}'.format(lab2))\n",
    "    plt.suptitle('Distances among movies')\n",
    "    \n",
    "    plt.subplot2grid((2, 6), (0, 5))\n",
    "    max_d = 0.1#(round(max(dd2.flatten()))+0.2)\n",
    "    [plt.text(max_d,y,donnees.iloc[nn2.flatten()[y]]['movie_title']) for y in range(n_movies) ]\n",
    "    plt.axis([0,100,-1,n_movies])\n",
    "    plt.title('Movies') # just to adapt fig height compared to neighbors\n",
    "    plt.axis('off')\n",
    "    \n",
    "    l1only = donnees.iloc[ [i for i in nn1.flatten() if i not in nn2.flatten() ]]['movie_title']\n",
    "    l2only = donnees.iloc[ [i for i in nn2.flatten() if i not in nn1.flatten() ]]['movie_title']\n",
    "    l12 = donnees.iloc[ [i for i in nn1.flatten() if i  in nn2.flatten() ]]['movie_title']\n",
    "    ht = max(len(l1only),len(l2only),len(l12))+1\n",
    "    \n",
    "    plt.subplot2grid((2, 6), (1, 1),colspan=4)\n",
    "    plt.bar([1,6,11], [len(l1only),len(l12), len(l2only)], width=4,color=['green','lightblue','orange'])\n",
    "    [plt.text(0,y,l1only.iloc[y,], horizontalalignment='left') for y in range(len(l1only)) ]\n",
    "    [plt.text(5,y,l12.iloc[y,], horizontalalignment='left') for y in range(len(l12)) ]\n",
    "    [plt.text(10,y,l2only.iloc[y,], horizontalalignment='left') for y in range(len(l2only)) ]\n",
    "    plt.text(0,ht,'{} only'.format(lab1))\n",
    "    plt.text(5,ht,'{} & {}'.format(lab1, lab2))\n",
    "    plt.text(10,ht,'{} only'.format(lab2))\n",
    "\n",
    "    plt.show()"
   ]
  },
  {
   "cell_type": "code",
   "execution_count": 23,
   "metadata": {},
   "outputs": [
    {
     "data": {
      "text/plain": [
       "director_name                                     Quentin Tarantino\n",
       "content_rating                                                    R\n",
       "genres                                                  Crime|Drama\n",
       "plot_keywords     black comedy|cunnilingus|neo noir|nonlinear ti...\n",
       "actor_1_name                                           Bruce Willis\n",
       "actor_2_name                                            Eric Stoltz\n",
       "actor_3_name                                            Phil LaMarr\n",
       "Name: 3200, dtype: object"
      ]
     },
     "execution_count": 23,
     "metadata": {},
     "output_type": "execute_result"
    }
   ],
   "source": [
    "donnees[['director_name', 'content_rating', 'genres', 'plot_keywords', \n",
    "         'actor_1_name', 'actor_2_name', 'actor_3_name']].iloc[3200]"
   ]
  },
  {
   "cell_type": "markdown",
   "metadata": {},
   "source": [
    "Above we can see the different characteristics of the movie"
   ]
  },
  {
   "cell_type": "code",
   "execution_count": 24,
   "metadata": {},
   "outputs": [],
   "source": [
    "dd1, nn1 = NN1.kneighbors([np.array(df_cat1.loc[3200])], return_distance=True)\n",
    "dd2, nn2 = NN2.kneighbors([np.array(df_normalization(df_cat1).loc[3200])], return_distance=True)"
   ]
  },
  {
   "cell_type": "code",
   "execution_count": 25,
   "metadata": {},
   "outputs": [
    {
     "data": {
      "image/png": "[encoded data removed]",
      "text/plain": [
       "<matplotlib.figure.Figure at 0x1cd9f9656d8>"
      ]
     },
     "metadata": {},
     "output_type": "display_data"
    }
   ],
   "source": [
    "plot_comparison(nn1, dd1, nn2, dd2, lab1='NN1', lab2='NN2', n_movies = 20)"
   ]
  },
  {
   "cell_type": "markdown",
   "metadata": {},
   "source": [
    "### Comments:\n",
    "\n",
    "1. lists of movies: the lists of similar movies differ\n",
    "2. distances: with both methods, movies are lumped in a few groups sharing same distance values\n",
    "\n",
    "**1.Lists of movies**\n",
    "\n",
    "While some movies are shared by the two models we can see clear differences.\n",
    "\n",
    "Some movies are only present without data standardization (NN1): [3 Backyards](http://www.imdb.com/title/tt1314190/?ref_=fn_t...), [Indignation](http://www.imdb.com/title/tt4193394/?ref_=fn_t...), [An American in Hollywood](http://www.imdb.com/title/tt2125430/?ref_=fn_t...). \n",
    "Those movies are Drama rated R like *Pulp Fiction* but share no other similarities.\n",
    "\n",
    "Some movies are only present with data standardization (NN2):\n",
    "[Lucky Number Slevin](http://www.imdb.com/title/tt0425210/?ref_=fn_t...), [Mercury Rising](http://www.imdb.com/title/tt0120749/?ref_=fn_t...), [Out of Sight](http://www.imdb.com/title/tt0120780/?ref_=fn_t...). \n",
    "Model NN2 (data standardization) discards spurious similarities related to double zeros in the dataset and therefore nearest neighbors now share more features with the target movie: They are Crime | Drama movies rated R like *Pulp Fiction* but can also share some similarities on actors (eg Bruce Willis) or plot keyword (eg *neo noir*)\n",
    "\n",
    "**2.Distances**\n",
    "\n",
    "Data standardization prior to distance computation allowed us to keep using Euclidean distances and obtain a similar result as a Jaccard's distances. Distances now seem to reflect more accurately what we would call similarities among movies.\n",
    "\n",
    "However, the two methods give many tied movies that share the exact same distances to the target. This is not a good property for a ranking system.\n"
   ]
  },
  {
   "cell_type": "code",
   "execution_count": 26,
   "metadata": {},
   "outputs": [
    {
     "data": {
      "text/html": [
       "<div>\n",
       "<style scoped>\n",
       "    .dataframe tbody tr th:only-of-type {\n",
       "        vertical-align: middle;\n",
       "    }\n",
       "\n",
       "    .dataframe tbody tr th {\n",
       "        vertical-align: top;\n",
       "    }\n",
       "\n",
       "    .dataframe thead th {\n",
       "        text-align: right;\n",
       "    }\n",
       "</style>\n",
       "<table border=\"1\" class=\"dataframe\">\n",
       "  <thead>\n",
       "    <tr style=\"text-align: right;\">\n",
       "      <th></th>\n",
       "      <th>movie_title</th>\n",
       "      <th>director_name</th>\n",
       "      <th>content_rating</th>\n",
       "      <th>genres</th>\n",
       "      <th>plot_keywords</th>\n",
       "      <th>actor_1_name</th>\n",
       "      <th>actor_2_name</th>\n",
       "      <th>actor_3_name</th>\n",
       "    </tr>\n",
       "  </thead>\n",
       "  <tbody>\n",
       "    <tr>\n",
       "      <th>3200</th>\n",
       "      <td>Pulp Fiction</td>\n",
       "      <td>Quentin Tarantino</td>\n",
       "      <td>R</td>\n",
       "      <td>Crime|Drama</td>\n",
       "      <td>black comedy|cunnilingus|neo noir|nonlinear ti...</td>\n",
       "      <td>Bruce Willis</td>\n",
       "      <td>Eric Stoltz</td>\n",
       "      <td>Phil LaMarr</td>\n",
       "    </tr>\n",
       "    <tr>\n",
       "      <th>4490</th>\n",
       "      <td>3 Backyards</td>\n",
       "      <td>Eric Mendelsohn</td>\n",
       "      <td>R</td>\n",
       "      <td>Drama</td>\n",
       "      <td>number in title</td>\n",
       "      <td>Embeth Davidtz</td>\n",
       "      <td>Edie Falco</td>\n",
       "      <td>Kathryn Erbe</td>\n",
       "    </tr>\n",
       "    <tr>\n",
       "      <th>2294</th>\n",
       "      <td>Indignation</td>\n",
       "      <td>James Schamus</td>\n",
       "      <td>R</td>\n",
       "      <td>Drama</td>\n",
       "      <td>based on novel</td>\n",
       "      <td>Logan Lerman</td>\n",
       "      <td>Sarah Gadon</td>\n",
       "      <td>Tracy Letts</td>\n",
       "    </tr>\n",
       "    <tr>\n",
       "      <th>4570</th>\n",
       "      <td>An American in Hollywood</td>\n",
       "      <td>Sai Varadan</td>\n",
       "      <td>R</td>\n",
       "      <td>Drama</td>\n",
       "      <td>place name in title</td>\n",
       "      <td>J.D. Williams</td>\n",
       "      <td>Hassan Johnson</td>\n",
       "      <td>Samantha Esteban</td>\n",
       "    </tr>\n",
       "    <tr>\n",
       "      <th>1750</th>\n",
       "      <td>Lucky Number Slevin</td>\n",
       "      <td>Paul McGuigan</td>\n",
       "      <td>R</td>\n",
       "      <td>Crime|Drama|Mystery|Thriller</td>\n",
       "      <td>coroner|death|gay son|love|mistaken identity</td>\n",
       "      <td>Bruce Willis</td>\n",
       "      <td>Morgan Freeman</td>\n",
       "      <td>Dorian Missick</td>\n",
       "    </tr>\n",
       "    <tr>\n",
       "      <th>760</th>\n",
       "      <td>Mercury Rising</td>\n",
       "      <td>Harold Becker</td>\n",
       "      <td>R</td>\n",
       "      <td>Action|Crime|Drama|Thriller</td>\n",
       "      <td>autistic child|boy|child in danger|fbi|nsa</td>\n",
       "      <td>Bruce Willis</td>\n",
       "      <td>Miko Hughes</td>\n",
       "      <td>Carrie Preston</td>\n",
       "    </tr>\n",
       "    <tr>\n",
       "      <th>1018</th>\n",
       "      <td>Out of Sight</td>\n",
       "      <td>Steven Soderbergh</td>\n",
       "      <td>R</td>\n",
       "      <td>Crime|Drama|Romance|Thriller</td>\n",
       "      <td>heist|neo noir|one last job|opposites attract|...</td>\n",
       "      <td>Don Cheadle</td>\n",
       "      <td>Albert Brooks</td>\n",
       "      <td>Keith Hudson</td>\n",
       "    </tr>\n",
       "  </tbody>\n",
       "</table>\n",
       "</div>"
      ],
      "text/plain": [
       "                    movie_title      director_name content_rating  \\\n",
       "3200              Pulp Fiction   Quentin Tarantino              R   \n",
       "4490               3 Backyards     Eric Mendelsohn              R   \n",
       "2294               Indignation       James Schamus              R   \n",
       "4570  An American in Hollywood         Sai Varadan              R   \n",
       "1750       Lucky Number Slevin       Paul McGuigan              R   \n",
       "760             Mercury Rising       Harold Becker              R   \n",
       "1018              Out of Sight   Steven Soderbergh              R   \n",
       "\n",
       "                            genres  \\\n",
       "3200                   Crime|Drama   \n",
       "4490                         Drama   \n",
       "2294                         Drama   \n",
       "4570                         Drama   \n",
       "1750  Crime|Drama|Mystery|Thriller   \n",
       "760    Action|Crime|Drama|Thriller   \n",
       "1018  Crime|Drama|Romance|Thriller   \n",
       "\n",
       "                                          plot_keywords    actor_1_name  \\\n",
       "3200  black comedy|cunnilingus|neo noir|nonlinear ti...    Bruce Willis   \n",
       "4490                                    number in title  Embeth Davidtz   \n",
       "2294                                     based on novel    Logan Lerman   \n",
       "4570                                place name in title   J.D. Williams   \n",
       "1750       coroner|death|gay son|love|mistaken identity    Bruce Willis   \n",
       "760          autistic child|boy|child in danger|fbi|nsa    Bruce Willis   \n",
       "1018  heist|neo noir|one last job|opposites attract|...     Don Cheadle   \n",
       "\n",
       "        actor_2_name      actor_3_name  \n",
       "3200     Eric Stoltz       Phil LaMarr  \n",
       "4490      Edie Falco      Kathryn Erbe  \n",
       "2294     Sarah Gadon       Tracy Letts  \n",
       "4570  Hassan Johnson  Samantha Esteban  \n",
       "1750  Morgan Freeman    Dorian Missick  \n",
       "760      Miko Hughes    Carrie Preston  \n",
       "1018   Albert Brooks      Keith Hudson  "
      ]
     },
     "execution_count": 26,
     "metadata": {},
     "output_type": "execute_result"
    }
   ],
   "source": [
    "idx =[3200]\n",
    "idx.extend([i for i in nn1.flatten() if i not in nn2.flatten() ][:3])\n",
    "idx.extend([i for i in nn2.flatten() if i not in nn1.flatten() ][:3])\n",
    "donnees[['movie_title','director_name', 'content_rating', 'genres', 'plot_keywords', \n",
    "         'actor_1_name', 'actor_2_name', 'actor_3_name']].iloc[idx]"
   ]
  },
  {
   "cell_type": "markdown",
   "metadata": {},
   "source": [
    "\n",
    "\n",
    "-------------------"
   ]
  },
  {
   "cell_type": "markdown",
   "metadata": {},
   "source": [
    "# 3. Sparse data and data transformation\n",
    "\n",
    "Our dataset is very sparse we're likely to encounter another issue: a ranking poorly discriminant with lot of tied movies. If we look at the four movies *Pulp Fiction*, *Lucky Number Slevin*, *Mercury Rising* and *Out of Sight* we can see that they share only a low number of similarity relatively to the total number of features in the dataset even though those movies are our current nearest neighbors.\n",
    "\n",
    "Due to the low information in the dataset, we can only obtain a limited number of different values for computed distances and end up with tied movies"
   ]
  },
  {
   "cell_type": "code",
   "execution_count": 27,
   "metadata": {},
   "outputs": [
    {
     "data": {
      "text/html": [
       "<div>\n",
       "<style scoped>\n",
       "    .dataframe tbody tr th:only-of-type {\n",
       "        vertical-align: middle;\n",
       "    }\n",
       "\n",
       "    .dataframe tbody tr th {\n",
       "        vertical-align: top;\n",
       "    }\n",
       "\n",
       "    .dataframe thead th {\n",
       "        text-align: right;\n",
       "    }\n",
       "</style>\n",
       "<table border=\"1\" class=\"dataframe\">\n",
       "  <thead>\n",
       "    <tr style=\"text-align: right;\">\n",
       "      <th></th>\n",
       "      <th>crime</th>\n",
       "      <th>drama</th>\n",
       "      <th>thriller</th>\n",
       "      <th>bruce willis</th>\n",
       "      <th>KW_neo noir</th>\n",
       "      <th>content_rating_R</th>\n",
       "    </tr>\n",
       "  </thead>\n",
       "  <tbody>\n",
       "    <tr>\n",
       "      <th>3200</th>\n",
       "      <td>1</td>\n",
       "      <td>1</td>\n",
       "      <td>0</td>\n",
       "      <td>1</td>\n",
       "      <td>1</td>\n",
       "      <td>1</td>\n",
       "    </tr>\n",
       "    <tr>\n",
       "      <th>1750</th>\n",
       "      <td>1</td>\n",
       "      <td>1</td>\n",
       "      <td>1</td>\n",
       "      <td>1</td>\n",
       "      <td>0</td>\n",
       "      <td>1</td>\n",
       "    </tr>\n",
       "    <tr>\n",
       "      <th>760</th>\n",
       "      <td>1</td>\n",
       "      <td>1</td>\n",
       "      <td>1</td>\n",
       "      <td>1</td>\n",
       "      <td>0</td>\n",
       "      <td>1</td>\n",
       "    </tr>\n",
       "    <tr>\n",
       "      <th>1018</th>\n",
       "      <td>1</td>\n",
       "      <td>1</td>\n",
       "      <td>1</td>\n",
       "      <td>0</td>\n",
       "      <td>1</td>\n",
       "      <td>1</td>\n",
       "    </tr>\n",
       "  </tbody>\n",
       "</table>\n",
       "</div>"
      ],
      "text/plain": [
       "      crime  drama  thriller  bruce willis  KW_neo noir  content_rating_R\n",
       "3200      1      1         0             1            1                 1\n",
       "1750      1      1         1             1            0                 1\n",
       "760       1      1         1             1            0                 1\n",
       "1018      1      1         1             0            1                 1"
      ]
     },
     "execution_count": 27,
     "metadata": {},
     "output_type": "execute_result"
    }
   ],
   "source": [
    "tmp = df_cat1.iloc[[3200,1750,760,1018]]\n",
    "tmp.loc[:,tmp.sum(axis=0)>1]"
   ]
  },
  {
   "cell_type": "markdown",
   "metadata": {},
   "source": [
    "To gain more precision, ideally we would need to gather more information from an external source and add informative variables to the dataset. Otherwise, another solution is to transform the data to bring more variations. Unlike standardization, transformation implies a change of the information of the initial dataset. Such operation must be well argumented.\n",
    "\n",
    "![SamuelLJackson](samuel-l-jackson-pulp-fiction.png)"
   ]
  },
  {
   "cell_type": "markdown",
   "metadata": {},
   "source": [
    "### Variables weighting\n",
    "The most straightforward way is to weight some variables relatively to others so that you give them more importance when calculating distances among objects. This way the wole dataset information will be richer and ties will be rarer when looking for nearest neighbors of a target object.\n",
    "\n",
    "*(For more details, please see the companion notebook in this repository: [Distance_Assessment](2.Annex_Distance_assessment.ipynb))*\n",
    "\n",
    "\n",
    "- **weighting based on expert knowledge:** when you know which variables should hold more or less importance in distance calculations relatively to your question you can choose manually the different weights to apply\n",
    "- **giving more weight to frequent variables:** when you consider that the more frequent variables are more important\n",
    "- **giving more weight to unfrequent variables:** when small 'details' are considered to be the more informative discriminants\n",
    "\n",
    "To achieve that, we could base the weights values on the marginal sums of columns btu we could also explore the use of a **PCA** or a **Chi-square** transformation.\n",
    "\n",
    "------------------------------"
   ]
  },
  {
   "cell_type": "markdown",
   "metadata": {},
   "source": [
    "# Application on movie dataset\n",
    "\n",
    "### 3.1 More weight to unfrequent variables: chi-square transformation\n",
    "Euclidean distances computed after a Chi-square transformation are expected to yield similar results as Chi-square distances. One known property is to give relatively more importance to less frequent variables"
   ]
  },
  {
   "cell_type": "code",
   "execution_count": 28,
   "metadata": {},
   "outputs": [
    {
     "data": {
      "text/plain": [
       "NearestNeighbors(algorithm='auto', leaf_size=30, metric='euclidean',\n",
       "                 metric_params=None, n_jobs=None, n_neighbors=26, p=2,\n",
       "                 radius=1.0)"
      ]
     },
     "execution_count": 28,
     "metadata": {},
     "output_type": "execute_result"
    }
   ],
   "source": [
    "from utils import chi_tab\n",
    "# model with weighting based on chi-square transformatioµn\n",
    "NN6 = NearestNeighbors(n_neighbors=26, algorithm='auto', metric='euclidean')\n",
    "NN6.fit(df_normalization(chi_tab(df_cat1)))"
   ]
  },
  {
   "cell_type": "code",
   "execution_count": 29,
   "metadata": {},
   "outputs": [],
   "source": [
    "dd2, nn2 = NN2.kneighbors([np.array(df_normalization(df_cat1).loc[3200])], return_distance=True)\n",
    "dd6, nn6 = NN6.kneighbors([np.array(df_normalization(chi_tab(df_cat1)).loc[3200])], return_distance=True)"
   ]
  },
  {
   "cell_type": "code",
   "execution_count": 30,
   "metadata": {},
   "outputs": [
    {
     "data": {
      "image/png": "[encoded data removed]",
      "text/plain": [
       "<matplotlib.figure.Figure at 0x1cd9f0f41d0>"
      ]
     },
     "metadata": {},
     "output_type": "display_data"
    }
   ],
   "source": [
    "plot_comparison(nn1=nn2, dd1=dd2, nn2=nn6, dd2=dd6, lab1='NN2', lab2='NN6 (Chi²)', n_movies = 15)"
   ]
  },
  {
   "cell_type": "markdown",
   "metadata": {},
   "source": [
    "### Comments\n",
    "\n",
    "With the data transformation, we manage to obtain a more continuous range of distances\n",
    "\n",
    "However,the Chi-square distances lead to somewhat weird results because they give more weight to *rare similarities*. In particular, the first two closest movies from Pulp Fiction would be [Hoodwinked Too! Hood vs. Evil](http://www.imdb.com/title/tt0844993/?ref_=fn_t...) and [Zambezia](http://www.imdb.com/title/tt1488181/?ref_=fn_t...)... two animations movies voiced by actor Phil LaMarr who also played in Pulp Fiction! Conversely we lose movies like [Down Terrace](http://www.imdb.com/title/tt1489167/?ref_=fn_t...) or [Drive](http://www.imdb.com/title/tt0780504/?ref_=fn_t...) that were obviously more simlar to Pulp Fiction\n",
    "\n",
    "**Note:** Similar result would have been obtained with weight based on the inverse of the variables frequencies"
   ]
  },
  {
   "cell_type": "code",
   "execution_count": 31,
   "metadata": {},
   "outputs": [
    {
     "data": {
      "text/html": [
       "<div>\n",
       "<style scoped>\n",
       "    .dataframe tbody tr th:only-of-type {\n",
       "        vertical-align: middle;\n",
       "    }\n",
       "\n",
       "    .dataframe tbody tr th {\n",
       "        vertical-align: top;\n",
       "    }\n",
       "\n",
       "    .dataframe thead th {\n",
       "        text-align: right;\n",
       "    }\n",
       "</style>\n",
       "<table border=\"1\" class=\"dataframe\">\n",
       "  <thead>\n",
       "    <tr style=\"text-align: right;\">\n",
       "      <th></th>\n",
       "      <th>movie_title</th>\n",
       "      <th>director_name</th>\n",
       "      <th>content_rating</th>\n",
       "      <th>genres</th>\n",
       "      <th>plot_keywords</th>\n",
       "      <th>actor_1_name</th>\n",
       "      <th>actor_2_name</th>\n",
       "      <th>actor_3_name</th>\n",
       "    </tr>\n",
       "  </thead>\n",
       "  <tbody>\n",
       "    <tr>\n",
       "      <th>3200</th>\n",
       "      <td>Pulp Fiction</td>\n",
       "      <td>Quentin Tarantino</td>\n",
       "      <td>R</td>\n",
       "      <td>Crime|Drama</td>\n",
       "      <td>black comedy|cunnilingus|neo noir|nonlinear ti...</td>\n",
       "      <td>Bruce Willis</td>\n",
       "      <td>Eric Stoltz</td>\n",
       "      <td>Phil LaMarr</td>\n",
       "    </tr>\n",
       "    <tr>\n",
       "      <th>4618</th>\n",
       "      <td>Down Terrace</td>\n",
       "      <td>Ben Wheatley</td>\n",
       "      <td>R</td>\n",
       "      <td>Comedy|Crime|Drama</td>\n",
       "      <td>black comedy</td>\n",
       "      <td>Michael Smiley</td>\n",
       "      <td>Tony Way</td>\n",
       "      <td>David Schaal</td>\n",
       "    </tr>\n",
       "    <tr>\n",
       "      <th>2544</th>\n",
       "      <td>Drive</td>\n",
       "      <td>Nicolas Winding Refn</td>\n",
       "      <td>R</td>\n",
       "      <td>Crime|Drama</td>\n",
       "      <td>kissing in an elevator|mythical hero|neo noir|...</td>\n",
       "      <td>Ryan Gosling</td>\n",
       "      <td>Albert Brooks</td>\n",
       "      <td>Russ Tamblyn</td>\n",
       "    </tr>\n",
       "    <tr>\n",
       "      <th>4236</th>\n",
       "      <td>Taxi Driver</td>\n",
       "      <td>Martin Scorsese</td>\n",
       "      <td>R</td>\n",
       "      <td>Crime|Drama</td>\n",
       "      <td>loner|neo noir|night shift|taxi driver|vigilante</td>\n",
       "      <td>Robert De Niro</td>\n",
       "      <td>Albert Brooks</td>\n",
       "      <td>Peter Boyle</td>\n",
       "    </tr>\n",
       "    <tr>\n",
       "      <th>1649</th>\n",
       "      <td>Hoodwinked Too! Hood vs. Evil</td>\n",
       "      <td>Mike Disa</td>\n",
       "      <td>PG</td>\n",
       "      <td>Animation|Comedy|Family</td>\n",
       "      <td>3 dimensional|box office flop|critically bashe...</td>\n",
       "      <td>Amy Poehler</td>\n",
       "      <td>Phil LaMarr</td>\n",
       "      <td>Cheech Marin</td>\n",
       "    </tr>\n",
       "    <tr>\n",
       "      <th>2260</th>\n",
       "      <td>Zambezia</td>\n",
       "      <td>Wayne Thornley</td>\n",
       "      <td>G</td>\n",
       "      <td>Adventure|Animation|Comedy|Family</td>\n",
       "      <td>bird|city name in title|falcon|one word title|...</td>\n",
       "      <td>Leonard Nimoy</td>\n",
       "      <td>Phil LaMarr</td>\n",
       "      <td>Noureen DeWulf</td>\n",
       "    </tr>\n",
       "    <tr>\n",
       "      <th>3686</th>\n",
       "      <td>Monster's Ball</td>\n",
       "      <td>Marc Forster</td>\n",
       "      <td>R</td>\n",
       "      <td>Drama|Romance</td>\n",
       "      <td>cunnilingus|female frontal nudity|female nudit...</td>\n",
       "      <td>Heath Ledger</td>\n",
       "      <td>Peter Boyle</td>\n",
       "      <td>Marcus Lyle Brown</td>\n",
       "    </tr>\n",
       "  </tbody>\n",
       "</table>\n",
       "</div>"
      ],
      "text/plain": [
       "                         movie_title         director_name content_rating  \\\n",
       "3200                   Pulp Fiction      Quentin Tarantino              R   \n",
       "4618                   Down Terrace           Ben Wheatley              R   \n",
       "2544                          Drive   Nicolas Winding Refn              R   \n",
       "4236                    Taxi Driver        Martin Scorsese              R   \n",
       "1649  Hoodwinked Too! Hood vs. Evil              Mike Disa             PG   \n",
       "2260                       Zambezia         Wayne Thornley              G   \n",
       "3686                 Monster's Ball           Marc Forster              R   \n",
       "\n",
       "                                 genres  \\\n",
       "3200                        Crime|Drama   \n",
       "4618                 Comedy|Crime|Drama   \n",
       "2544                        Crime|Drama   \n",
       "4236                        Crime|Drama   \n",
       "1649            Animation|Comedy|Family   \n",
       "2260  Adventure|Animation|Comedy|Family   \n",
       "3686                      Drama|Romance   \n",
       "\n",
       "                                          plot_keywords    actor_1_name  \\\n",
       "3200  black comedy|cunnilingus|neo noir|nonlinear ti...    Bruce Willis   \n",
       "4618                                       black comedy  Michael Smiley   \n",
       "2544  kissing in an elevator|mythical hero|neo noir|...    Ryan Gosling   \n",
       "4236   loner|neo noir|night shift|taxi driver|vigilante  Robert De Niro   \n",
       "1649  3 dimensional|box office flop|critically bashe...     Amy Poehler   \n",
       "2260  bird|city name in title|falcon|one word title|...   Leonard Nimoy   \n",
       "3686  cunnilingus|female frontal nudity|female nudit...    Heath Ledger   \n",
       "\n",
       "       actor_2_name       actor_3_name  \n",
       "3200    Eric Stoltz        Phil LaMarr  \n",
       "4618       Tony Way       David Schaal  \n",
       "2544  Albert Brooks       Russ Tamblyn  \n",
       "4236  Albert Brooks        Peter Boyle  \n",
       "1649    Phil LaMarr       Cheech Marin  \n",
       "2260    Phil LaMarr     Noureen DeWulf  \n",
       "3686    Peter Boyle  Marcus Lyle Brown  "
      ]
     },
     "execution_count": 31,
     "metadata": {},
     "output_type": "execute_result"
    }
   ],
   "source": [
    "idx =[3200]\n",
    "idx.extend([i for i in nn2.flatten() if i not in nn6.flatten() ][:3])\n",
    "idx.extend([i for i in nn6.flatten() if i not in nn2.flatten() ][:3])\n",
    "donnees[['movie_title','director_name', 'content_rating', 'genres', 'plot_keywords', \n",
    "         'actor_1_name', 'actor_2_name', 'actor_3_name']].iloc[idx]"
   ]
  },
  {
   "cell_type": "markdown",
   "metadata": {},
   "source": [
    "-------------------"
   ]
  },
  {
   "cell_type": "markdown",
   "metadata": {},
   "source": [
    "### 3.2 More weight to frequent variables:  based on marginal sum of columns\n",
    "\n",
    "Here we expect to give more importance to frequent variables. The weights are computed as the square root of the marginal sums of the variables  "
   ]
  },
  {
   "cell_type": "code",
   "execution_count": 32,
   "metadata": {},
   "outputs": [
    {
     "data": {
      "text/plain": [
       "NearestNeighbors(algorithm='auto', leaf_size=30, metric='euclidean',\n",
       "                 metric_params=None, n_jobs=None, n_neighbors=26, p=2,\n",
       "                 radius=1.0)"
      ]
     },
     "execution_count": 32,
     "metadata": {},
     "output_type": "execute_result"
    }
   ],
   "source": [
    "from utils import col_weighting\n",
    "\n",
    "# model with weighting based on sqrt(column sum)\n",
    "NN3 = NearestNeighbors(n_neighbors=26, algorithm='auto', metric='euclidean')\n",
    "NN3.fit(df_normalization(col_weighting(df_cat1, fun=lambda x: np.sqrt(x))))"
   ]
  },
  {
   "cell_type": "code",
   "execution_count": 33,
   "metadata": {},
   "outputs": [],
   "source": [
    "dd2, nn2 = NN2.kneighbors([np.array(df_normalization(df_cat1).loc[3200])], return_distance=True)\n",
    "dd3, nn3 = NN3.kneighbors([np.array(df_normalization(col_weighting(df_cat1, fun=lambda x: np.sqrt(x))).loc[3200])], return_distance=True)"
   ]
  },
  {
   "cell_type": "code",
   "execution_count": 34,
   "metadata": {},
   "outputs": [
    {
     "data": {
      "image/png": "[encoded data removed]",
      "text/plain": [
       "<matplotlib.figure.Figure at 0x1cdc0d870b8>"
      ]
     },
     "metadata": {},
     "output_type": "display_data"
    }
   ],
   "source": [
    "plot_comparison(nn1=nn2, dd1=dd2, nn2=nn3, dd2=dd3, lab1='NN2', lab2='NN3 (Column-sum)', n_movies = 15)"
   ]
  },
  {
   "cell_type": "markdown",
   "metadata": {},
   "source": [
    "### Comments\n",
    "Once again with this transformation, we manage to obtain a more continuous range of distances. Let's look at the movies promoted by each model:\n",
    "- NN2 only: [Reservoir Dogs](http://www.imdb.com/title/tt0105236/?ref_=fn_t...), [Down Terrace](http://www.imdb.com/title/tt1489167/?ref_=fn_t...), [Blue Ruin](http://www.imdb.com/title/tt2359024/?ref_=fn_t...)\n",
    "- NN3 only: [Lilya 4-Ever](http://www.imdb.com/title/tt0300140/?ref_=fn_t...), [Lady Vengeance](http://www.imdb.com/title/tt0451094/?ref_=fn_t...), [Spring Breakers](http://www.imdb.com/title/tt2101441/?ref_=fn_t...)\n",
    "\n",
    "While the list of movies from the NN3 model isn't as weird as the list obtained when giving more importance to less frequent variables, the movies promoted by the model NN2 seem intuitively more similar to Pulp Fiction. What happened? \n",
    "\n",
    "The most frequent variables in the dataset are *'content_rating'* and *'genres'*. The NN3 model gives them a lot of weight and consequently movies classified exactly as *Crime|Drama* and rated *R* like *Pulp Fiction* are promoted. However, even though *Pulp Fiction* isn't classified as *Comedy* or *Thriller* it has some characteristics of these genres and thanks to some similarities on plot_keywords, realisator or actors, the  former model NN2 managed to place such movies in the top list. Thus, the weights given by NN3 appear a bit too high and the model lacks some flexibility."
   ]
  },
  {
   "cell_type": "code",
   "execution_count": 35,
   "metadata": {},
   "outputs": [
    {
     "data": {
      "text/html": [
       "<div>\n",
       "<style scoped>\n",
       "    .dataframe tbody tr th:only-of-type {\n",
       "        vertical-align: middle;\n",
       "    }\n",
       "\n",
       "    .dataframe tbody tr th {\n",
       "        vertical-align: top;\n",
       "    }\n",
       "\n",
       "    .dataframe thead th {\n",
       "        text-align: right;\n",
       "    }\n",
       "</style>\n",
       "<table border=\"1\" class=\"dataframe\">\n",
       "  <thead>\n",
       "    <tr style=\"text-align: right;\">\n",
       "      <th></th>\n",
       "      <th>movie_title</th>\n",
       "      <th>director_name</th>\n",
       "      <th>content_rating</th>\n",
       "      <th>genres</th>\n",
       "      <th>plot_keywords</th>\n",
       "      <th>actor_1_name</th>\n",
       "      <th>actor_2_name</th>\n",
       "      <th>actor_3_name</th>\n",
       "    </tr>\n",
       "  </thead>\n",
       "  <tbody>\n",
       "    <tr>\n",
       "      <th>3200</th>\n",
       "      <td>Pulp Fiction</td>\n",
       "      <td>Quentin Tarantino</td>\n",
       "      <td>R</td>\n",
       "      <td>Crime|Drama</td>\n",
       "      <td>black comedy|cunnilingus|neo noir|nonlinear ti...</td>\n",
       "      <td>Bruce Willis</td>\n",
       "      <td>Eric Stoltz</td>\n",
       "      <td>Phil LaMarr</td>\n",
       "    </tr>\n",
       "    <tr>\n",
       "      <th>4204</th>\n",
       "      <td>Reservoir Dogs</td>\n",
       "      <td>Quentin Tarantino</td>\n",
       "      <td>R</td>\n",
       "      <td>Crime|Drama|Thriller</td>\n",
       "      <td>gang|heist|heist gone wrong|nonlinear timeline...</td>\n",
       "      <td>Quentin Tarantino</td>\n",
       "      <td>Steve Buscemi</td>\n",
       "      <td>Chris Penn</td>\n",
       "    </tr>\n",
       "    <tr>\n",
       "      <th>4618</th>\n",
       "      <td>Down Terrace</td>\n",
       "      <td>Ben Wheatley</td>\n",
       "      <td>R</td>\n",
       "      <td>Comedy|Crime|Drama</td>\n",
       "      <td>black comedy</td>\n",
       "      <td>Michael Smiley</td>\n",
       "      <td>Tony Way</td>\n",
       "      <td>David Schaal</td>\n",
       "    </tr>\n",
       "    <tr>\n",
       "      <th>4455</th>\n",
       "      <td>Blue Ruin</td>\n",
       "      <td>Jeremy Saulnier</td>\n",
       "      <td>R</td>\n",
       "      <td>Crime|Drama|Thriller</td>\n",
       "      <td>blood splatter|car|neo noir|vengeance|vomiting</td>\n",
       "      <td>Devin Ratray</td>\n",
       "      <td>Eve Plumb</td>\n",
       "      <td>Amy Hargreaves</td>\n",
       "    </tr>\n",
       "    <tr>\n",
       "      <th>3665</th>\n",
       "      <td>Lilya 4-Ever</td>\n",
       "      <td>Lukas Moodysson</td>\n",
       "      <td>R</td>\n",
       "      <td>Crime|Drama</td>\n",
       "      <td>abandoned by mother|poverty|sex trade|teenage ...</td>\n",
       "      <td>Oksana Akinshina</td>\n",
       "      <td>Artyom Bogucharskiy</td>\n",
       "      <td>Lyubov Agapova</td>\n",
       "    </tr>\n",
       "    <tr>\n",
       "      <th>3660</th>\n",
       "      <td>Lady Vengeance</td>\n",
       "      <td>Chan-wook Park</td>\n",
       "      <td>R</td>\n",
       "      <td>Crime|Drama</td>\n",
       "      <td>cake|christian|lesbian sex|oral sex|pregnant s...</td>\n",
       "      <td>Min-sik Choi</td>\n",
       "      <td>Yeong-ae Lee</td>\n",
       "      <td>Hye-jeong Kang</td>\n",
       "    </tr>\n",
       "    <tr>\n",
       "      <th>3550</th>\n",
       "      <td>Spring Breakers</td>\n",
       "      <td>Harmony Korine</td>\n",
       "      <td>R</td>\n",
       "      <td>Crime|Drama</td>\n",
       "      <td>kissing a dead body|repeated dialogue|sex in p...</td>\n",
       "      <td>James Franco</td>\n",
       "      <td>Heather Morris</td>\n",
       "      <td>Rachel Korine</td>\n",
       "    </tr>\n",
       "  </tbody>\n",
       "</table>\n",
       "</div>"
      ],
      "text/plain": [
       "           movie_title      director_name content_rating  \\\n",
       "3200     Pulp Fiction   Quentin Tarantino              R   \n",
       "4204   Reservoir Dogs   Quentin Tarantino              R   \n",
       "4618     Down Terrace        Ben Wheatley              R   \n",
       "4455        Blue Ruin     Jeremy Saulnier              R   \n",
       "3665     Lilya 4-Ever     Lukas Moodysson              R   \n",
       "3660   Lady Vengeance      Chan-wook Park              R   \n",
       "3550  Spring Breakers      Harmony Korine              R   \n",
       "\n",
       "                    genres                                      plot_keywords  \\\n",
       "3200           Crime|Drama  black comedy|cunnilingus|neo noir|nonlinear ti...   \n",
       "4204  Crime|Drama|Thriller  gang|heist|heist gone wrong|nonlinear timeline...   \n",
       "4618    Comedy|Crime|Drama                                       black comedy   \n",
       "4455  Crime|Drama|Thriller     blood splatter|car|neo noir|vengeance|vomiting   \n",
       "3665           Crime|Drama  abandoned by mother|poverty|sex trade|teenage ...   \n",
       "3660           Crime|Drama  cake|christian|lesbian sex|oral sex|pregnant s...   \n",
       "3550           Crime|Drama  kissing a dead body|repeated dialogue|sex in p...   \n",
       "\n",
       "           actor_1_name         actor_2_name    actor_3_name  \n",
       "3200       Bruce Willis          Eric Stoltz     Phil LaMarr  \n",
       "4204  Quentin Tarantino        Steve Buscemi      Chris Penn  \n",
       "4618     Michael Smiley             Tony Way    David Schaal  \n",
       "4455       Devin Ratray            Eve Plumb  Amy Hargreaves  \n",
       "3665   Oksana Akinshina  Artyom Bogucharskiy  Lyubov Agapova  \n",
       "3660       Min-sik Choi         Yeong-ae Lee  Hye-jeong Kang  \n",
       "3550       James Franco       Heather Morris   Rachel Korine  "
      ]
     },
     "execution_count": 35,
     "metadata": {},
     "output_type": "execute_result"
    }
   ],
   "source": [
    "idx =[3200]\n",
    "idx.extend([i for i in nn2.flatten() if i not in nn3.flatten() ][:3])\n",
    "idx.extend([i for i in nn3.flatten() if i not in nn2.flatten() ][:3])\n",
    "donnees[['movie_title','director_name', 'content_rating', 'genres', 'plot_keywords', \n",
    "         'actor_1_name', 'actor_2_name', 'actor_3_name']].iloc[idx]"
   ]
  },
  {
   "cell_type": "markdown",
   "metadata": {},
   "source": [
    "-------------------------"
   ]
  },
  {
   "cell_type": "markdown",
   "metadata": {},
   "source": [
    "### 3.2 More weight to frequent variables:   based on PCA"
   ]
  },
  {
   "cell_type": "code",
   "execution_count": 36,
   "metadata": {},
   "outputs": [
    {
     "name": "stdout",
     "output_type": "stream",
     "text": [
      "(4645, 2000)\n",
      "explained variance:  [0.03990014 0.0726438  0.10040655 ... 0.80556722 0.80567954 0.80579173]\n"
     ]
    }
   ],
   "source": [
    "from sklearn import decomposition\n",
    "pca_cat = decomposition.PCA(n_components=2000,random_state=0)\n",
    "pca_cat.fit(df_normalization(df_cat1))\n",
    "df_pca = pd.DataFrame(pca_cat.transform(df_normalization(df_cat1)),index= df_cat1.index)\n",
    "print(df_pca.shape)\n",
    "print('explained variance: ',pca_cat.explained_variance_ratio_.cumsum())"
   ]
  },
  {
   "cell_type": "code",
   "execution_count": 37,
   "metadata": {},
   "outputs": [
    {
     "data": {
      "text/plain": [
       "NearestNeighbors(algorithm='auto', leaf_size=30, metric='euclidean',\n",
       "                 metric_params=None, n_jobs=None, n_neighbors=26, p=2,\n",
       "                 radius=1.0)"
      ]
     },
     "execution_count": 37,
     "metadata": {},
     "output_type": "execute_result"
    }
   ],
   "source": [
    "# model with weighting based on PCA\n",
    "NN5 = NearestNeighbors(n_neighbors=26, algorithm='auto', metric='euclidean')\n",
    "NN5.fit(df_pca)"
   ]
  },
  {
   "cell_type": "code",
   "execution_count": 38,
   "metadata": {},
   "outputs": [],
   "source": [
    "dd2, nn2 = NN2.kneighbors([np.array(df_normalization(df_cat1).loc[3200])], return_distance=True)\n",
    "dd5, nn5 = NN5.kneighbors([np.array(df_pca.loc[3200])], return_distance=True)"
   ]
  },
  {
   "cell_type": "code",
   "execution_count": 39,
   "metadata": {},
   "outputs": [
    {
     "data": {
      "image/png": "[encoded data removed]",
      "text/plain": [
       "<matplotlib.figure.Figure at 0x1cd9bc991d0>"
      ]
     },
     "metadata": {},
     "output_type": "display_data"
    }
   ],
   "source": [
    "plot_comparison(nn1=nn2, dd1=dd2, nn2=nn5, dd2=dd5, lab1='NN2', lab2='NN5 (PCA-based)', n_movies = 20)"
   ]
  },
  {
   "cell_type": "markdown",
   "metadata": {},
   "source": [
    "Unlike model NN3, the NN5 model based on a PCA returns a list of movies which is very similar to the list returned by our NN2 model. Actually the differences concern movies that aren't in the top 10. Compared to NN2, the NN5 model based on a PCA returns a continuous range of distances and allow a ranking which seems plausible:\n",
    "\n",
    "1.[Down Terrace](http://www.imdb.com/title/tt1489167/?ref_=fn_t...), 2.[Reservoir Dogs](http://www.imdb.com/title/tt0105236/?ref_=fn_t...), 3.[Killing Zoe](http://www.imdb.com/title/tt0110265/?ref_=fn_t...), 4.[Drive](http://www.imdb.com/title/tt0780504/?ref_=fn_t...),  5.[Taxi Driver](http://www.imdb.com/title/tt0075314/?ref_=fn_t...).\n",
    "\n",
    "In summary, PCA promotes variables holding a non redundant information that structures the dataset. The importance given to a variable by this transformation will depend on the retained proportion of the initial information (here around 80%). Compared to the transformation based on marginal sum of columns (NN3), the PCA-based weighting is more flexible and takes into account correlations among variables.\n",
    "*To find out the precise weights given by this method to each variable we can look at the relative contribution of the variables to the new dimensions (cf [Distance_Assessment](2.Annex_Distance_assessment.ipynb)) )*"
   ]
  },
  {
   "cell_type": "code",
   "execution_count": 41,
   "metadata": {},
   "outputs": [
    {
     "data": {
      "text/html": [
       "<div>\n",
       "<style scoped>\n",
       "    .dataframe tbody tr th:only-of-type {\n",
       "        vertical-align: middle;\n",
       "    }\n",
       "\n",
       "    .dataframe tbody tr th {\n",
       "        vertical-align: top;\n",
       "    }\n",
       "\n",
       "    .dataframe thead th {\n",
       "        text-align: right;\n",
       "    }\n",
       "</style>\n",
       "<table border=\"1\" class=\"dataframe\">\n",
       "  <thead>\n",
       "    <tr style=\"text-align: right;\">\n",
       "      <th></th>\n",
       "      <th>movie_title</th>\n",
       "      <th>director_name</th>\n",
       "      <th>content_rating</th>\n",
       "      <th>genres</th>\n",
       "      <th>plot_keywords</th>\n",
       "      <th>actor_1_name</th>\n",
       "      <th>actor_2_name</th>\n",
       "      <th>actor_3_name</th>\n",
       "    </tr>\n",
       "  </thead>\n",
       "  <tbody>\n",
       "    <tr>\n",
       "      <th>3200</th>\n",
       "      <td>Pulp Fiction</td>\n",
       "      <td>Quentin Tarantino</td>\n",
       "      <td>R</td>\n",
       "      <td>Crime|Drama</td>\n",
       "      <td>black comedy|cunnilingus|neo noir|nonlinear ti...</td>\n",
       "      <td>Bruce Willis</td>\n",
       "      <td>Eric Stoltz</td>\n",
       "      <td>Phil LaMarr</td>\n",
       "    </tr>\n",
       "    <tr>\n",
       "      <th>4618</th>\n",
       "      <td>Down Terrace</td>\n",
       "      <td>Ben Wheatley</td>\n",
       "      <td>R</td>\n",
       "      <td>Comedy|Crime|Drama</td>\n",
       "      <td>black comedy</td>\n",
       "      <td>Michael Smiley</td>\n",
       "      <td>Tony Way</td>\n",
       "      <td>David Schaal</td>\n",
       "    </tr>\n",
       "    <tr>\n",
       "      <th>4204</th>\n",
       "      <td>Reservoir Dogs</td>\n",
       "      <td>Quentin Tarantino</td>\n",
       "      <td>R</td>\n",
       "      <td>Crime|Drama|Thriller</td>\n",
       "      <td>gang|heist|heist gone wrong|nonlinear timeline...</td>\n",
       "      <td>Quentin Tarantino</td>\n",
       "      <td>Steve Buscemi</td>\n",
       "      <td>Chris Penn</td>\n",
       "    </tr>\n",
       "    <tr>\n",
       "      <th>4145</th>\n",
       "      <td>Killing Zoe</td>\n",
       "      <td>Roger Avary</td>\n",
       "      <td>R</td>\n",
       "      <td>Crime|Drama|Thriller</td>\n",
       "      <td>bank|bastille day|call girl|childhood friend|d...</td>\n",
       "      <td>Eric Stoltz</td>\n",
       "      <td>Salvator Xuereb</td>\n",
       "      <td>Jean-Hugues Anglade</td>\n",
       "    </tr>\n",
       "    <tr>\n",
       "      <th>2544</th>\n",
       "      <td>Drive</td>\n",
       "      <td>Nicolas Winding Refn</td>\n",
       "      <td>R</td>\n",
       "      <td>Crime|Drama</td>\n",
       "      <td>kissing in an elevator|mythical hero|neo noir|...</td>\n",
       "      <td>Ryan Gosling</td>\n",
       "      <td>Albert Brooks</td>\n",
       "      <td>Russ Tamblyn</td>\n",
       "    </tr>\n",
       "    <tr>\n",
       "      <th>4236</th>\n",
       "      <td>Taxi Driver</td>\n",
       "      <td>Martin Scorsese</td>\n",
       "      <td>R</td>\n",
       "      <td>Crime|Drama</td>\n",
       "      <td>loner|neo noir|night shift|taxi driver|vigilante</td>\n",
       "      <td>Robert De Niro</td>\n",
       "      <td>Albert Brooks</td>\n",
       "      <td>Peter Boyle</td>\n",
       "    </tr>\n",
       "  </tbody>\n",
       "</table>\n",
       "</div>"
      ],
      "text/plain": [
       "          movie_title         director_name content_rating  \\\n",
       "3200    Pulp Fiction      Quentin Tarantino              R   \n",
       "4618    Down Terrace           Ben Wheatley              R   \n",
       "4204  Reservoir Dogs      Quentin Tarantino              R   \n",
       "4145     Killing Zoe            Roger Avary              R   \n",
       "2544           Drive   Nicolas Winding Refn              R   \n",
       "4236     Taxi Driver        Martin Scorsese              R   \n",
       "\n",
       "                    genres                                      plot_keywords  \\\n",
       "3200           Crime|Drama  black comedy|cunnilingus|neo noir|nonlinear ti...   \n",
       "4618    Comedy|Crime|Drama                                       black comedy   \n",
       "4204  Crime|Drama|Thriller  gang|heist|heist gone wrong|nonlinear timeline...   \n",
       "4145  Crime|Drama|Thriller  bank|bastille day|call girl|childhood friend|d...   \n",
       "2544           Crime|Drama  kissing in an elevator|mythical hero|neo noir|...   \n",
       "4236           Crime|Drama   loner|neo noir|night shift|taxi driver|vigilante   \n",
       "\n",
       "           actor_1_name     actor_2_name         actor_3_name  \n",
       "3200       Bruce Willis      Eric Stoltz          Phil LaMarr  \n",
       "4618     Michael Smiley         Tony Way         David Schaal  \n",
       "4204  Quentin Tarantino    Steve Buscemi           Chris Penn  \n",
       "4145        Eric Stoltz  Salvator Xuereb  Jean-Hugues Anglade  \n",
       "2544       Ryan Gosling    Albert Brooks         Russ Tamblyn  \n",
       "4236     Robert De Niro    Albert Brooks          Peter Boyle  "
      ]
     },
     "execution_count": 41,
     "metadata": {},
     "output_type": "execute_result"
    }
   ],
   "source": [
    "donnees[['movie_title','director_name', 'content_rating', 'genres', 'plot_keywords', \n",
    "         'actor_1_name', 'actor_2_name', 'actor_3_name']].iloc[nn5.flatten()[:6]]"
   ]
  },
  {
   "cell_type": "markdown",
   "metadata": {},
   "source": [
    "-------------------"
   ]
  },
  {
   "cell_type": "markdown",
   "metadata": {},
   "source": [
    "# Final recommendation system"
   ]
  },
  {
   "cell_type": "markdown",
   "metadata": {},
   "source": [
    "1. top 5 most similar movies with our pca-based method\n",
    "2. top 5 most similar movies with our pca-based method with:\n",
    "    + filter low-rated movies (eg IMDB score)\n",
    "    + filter sequels of the target (similar titles)"
   ]
  },
  {
   "cell_type": "code",
   "execution_count": 233,
   "metadata": {},
   "outputs": [],
   "source": [
    "def sim_movie(movie_name,NN=NN5,df=df_pca):\n",
    "    '''Returns the list of similar movies\n",
    "    Input: title of the target movie'''\n",
    "    movie_name = movie_name+'\\xa0'\n",
    "    nn = donnees[donnees.movie_title == movie_name].index\n",
    "    selec = NN.kneighbors([np.array(df.loc[nn[0]])], return_distance=False)\n",
    "    return selec.flatten()#donnees['movie_title'].iloc[selec[0]]\n",
    "\n",
    "def filter_score(dat, thresh=0):\n",
    "    '''Filter movies based on a given IMDB score threshold'''\n",
    "    tmp = donnees.iloc[dat]\n",
    "    updated = np.array(tmp[tmp.imdb_score>=thresh].index)\n",
    "    return updated\n",
    "\n",
    "def find_sequels(name1,name2):\n",
    "    '''Find movie names similar to target name\n",
    "    expected to be sequels related to the target'''\n",
    "    name = [name2.replace(u'\\xa0', u'')]\n",
    "    if fuzz.ratio(name1,name)>50 or fuzz.token_set_ratio(name1,name)>50:\n",
    "        return(True)\n",
    "    return(False)"
   ]
  },
  {
   "cell_type": "code",
   "execution_count": 242,
   "metadata": {},
   "outputs": [],
   "source": [
    "def sim_idx(movie_name,score_thresh=0, no_sequels=True, NN=NN5,df=df_pca):        \n",
    "    '''Return indexes corresponding to similar movies for the target movie_name\n",
    "    Based on a given NearestNeighbors model\n",
    "    Returns an array with 25 indexes\n",
    "    then removes indexes depending on options score and no_sequels'''\n",
    "    target = movie_name\n",
    "    similar = sim_movie(movie_name, NN, df)[1:] # suppress first item = target    \n",
    "    ###### score\n",
    "    similar = filter_score(similar, score_thresh)\n",
    "    ###### sequels\n",
    "    if no_sequels:\n",
    "        liste_ind = []\n",
    "        for idx in similar:\n",
    "            if find_sequels(target,donnees.iloc[idx]['movie_title'])==False:\n",
    "                liste_ind.extend([idx])\n",
    "        similar = np.array(liste_ind)        \n",
    "    return similar\n",
    "\n",
    "def recomm_movie(movie_name,n_top=5, score_thresh=0,\n",
    "                 no_sequels=True, NN=NN5,df=df_pca):\n",
    "    '''Returns the name of the selected movie as a Series'''\n",
    "    if movie_name+'\\xa0' not in list(donnees['movie_title']):\n",
    "        return 'Sorry, I don\\'t know this movie'\n",
    "    idx = sim_idx(movie_name,score_thresh, no_sequels, NN, df)[:n_top]\n",
    "    return donnees['movie_title'].iloc[idx]"
   ]
  },
  {
   "cell_type": "markdown",
   "metadata": {},
   "source": [
    "Let's see the results for four selected movies"
   ]
  },
  {
   "cell_type": "code",
   "execution_count": 245,
   "metadata": {},
   "outputs": [
    {
     "name": "stdout",
     "output_type": "stream",
     "text": [
      "Top 5 similar movies without filter\n"
     ]
    },
    {
     "data": {
      "text/html": [
       "<div>\n",
       "<style scoped>\n",
       "    .dataframe tbody tr th:only-of-type {\n",
       "        vertical-align: middle;\n",
       "    }\n",
       "\n",
       "    .dataframe tbody tr th {\n",
       "        vertical-align: top;\n",
       "    }\n",
       "\n",
       "    .dataframe thead th {\n",
       "        text-align: right;\n",
       "    }\n",
       "</style>\n",
       "<table border=\"1\" class=\"dataframe\">\n",
       "  <thead>\n",
       "    <tr style=\"text-align: right;\">\n",
       "      <th></th>\n",
       "      <th>Pulp Fiction</th>\n",
       "      <th>Toy Story</th>\n",
       "      <th>Out of Africa</th>\n",
       "      <th>The Fast and the Furious</th>\n",
       "    </tr>\n",
       "  </thead>\n",
       "  <tbody>\n",
       "    <tr>\n",
       "      <th>0</th>\n",
       "      <td>Down Terrace</td>\n",
       "      <td>Toy Story 3</td>\n",
       "      <td>Becoming Jane</td>\n",
       "      <td>The Skulls</td>\n",
       "    </tr>\n",
       "    <tr>\n",
       "      <th>1</th>\n",
       "      <td>Reservoir Dogs</td>\n",
       "      <td>Toy Story 2</td>\n",
       "      <td>The Singles Ward</td>\n",
       "      <td>Furious 7</td>\n",
       "    </tr>\n",
       "    <tr>\n",
       "      <th>2</th>\n",
       "      <td>Killing Zoe</td>\n",
       "      <td>A Bug's Life</td>\n",
       "      <td>Mao's Last Dancer</td>\n",
       "      <td>Fast Five</td>\n",
       "    </tr>\n",
       "    <tr>\n",
       "      <th>3</th>\n",
       "      <td>Drive</td>\n",
       "      <td>Monsters, Inc.</td>\n",
       "      <td>Red Dog</td>\n",
       "      <td>xXx</td>\n",
       "    </tr>\n",
       "    <tr>\n",
       "      <th>4</th>\n",
       "      <td>Taxi Driver</td>\n",
       "      <td>Cars</td>\n",
       "      <td>Tootsie</td>\n",
       "      <td>Takers</td>\n",
       "    </tr>\n",
       "  </tbody>\n",
       "</table>\n",
       "</div>"
      ],
      "text/plain": [
       "      Pulp Fiction        Toy Story       Out of Africa  \\\n",
       "0    Down Terrace      Toy Story 3       Becoming Jane    \n",
       "1  Reservoir Dogs      Toy Story 2    The Singles Ward    \n",
       "2     Killing Zoe     A Bug's Life   Mao's Last Dancer    \n",
       "3           Drive   Monsters, Inc.             Red Dog    \n",
       "4     Taxi Driver             Cars             Tootsie    \n",
       "\n",
       "  The Fast and the Furious  \n",
       "0              The Skulls   \n",
       "1               Furious 7   \n",
       "2               Fast Five   \n",
       "3                     xXx   \n",
       "4                  Takers   "
      ]
     },
     "metadata": {},
     "output_type": "display_data"
    },
    {
     "name": "stdout",
     "output_type": "stream",
     "text": [
      "\n",
      "\n",
      "Top 5 similar movies with filters: \n",
      " No sequel and IMDB score at least 7\n"
     ]
    },
    {
     "data": {
      "text/html": [
       "<div>\n",
       "<style scoped>\n",
       "    .dataframe tbody tr th:only-of-type {\n",
       "        vertical-align: middle;\n",
       "    }\n",
       "\n",
       "    .dataframe tbody tr th {\n",
       "        vertical-align: top;\n",
       "    }\n",
       "\n",
       "    .dataframe thead th {\n",
       "        text-align: right;\n",
       "    }\n",
       "</style>\n",
       "<table border=\"1\" class=\"dataframe\">\n",
       "  <thead>\n",
       "    <tr style=\"text-align: right;\">\n",
       "      <th></th>\n",
       "      <th>Pulp Fiction</th>\n",
       "      <th>Toy Story</th>\n",
       "      <th>Out of Africa</th>\n",
       "      <th>The Fast and the Furious</th>\n",
       "    </tr>\n",
       "  </thead>\n",
       "  <tbody>\n",
       "    <tr>\n",
       "      <th>0</th>\n",
       "      <td>Reservoir Dogs</td>\n",
       "      <td>A Bug's Life</td>\n",
       "      <td>Becoming Jane</td>\n",
       "      <td>Fast Five</td>\n",
       "    </tr>\n",
       "    <tr>\n",
       "      <th>1</th>\n",
       "      <td>Drive</td>\n",
       "      <td>Monsters, Inc.</td>\n",
       "      <td>Mao's Last Dancer</td>\n",
       "      <td>District B13</td>\n",
       "    </tr>\n",
       "    <tr>\n",
       "      <th>2</th>\n",
       "      <td>Taxi Driver</td>\n",
       "      <td>Cars</td>\n",
       "      <td>Red Dog</td>\n",
       "      <td>RED</td>\n",
       "    </tr>\n",
       "    <tr>\n",
       "      <th>3</th>\n",
       "      <td>Blue Ruin</td>\n",
       "      <td>Brave</td>\n",
       "      <td>Tootsie</td>\n",
       "      <td>The Italian Job</td>\n",
       "    </tr>\n",
       "    <tr>\n",
       "      <th>4</th>\n",
       "      <td>The Hateful Eight</td>\n",
       "      <td>The Emperor's New Groove</td>\n",
       "      <td>Miss Potter</td>\n",
       "      <td>Running Scared</td>\n",
       "    </tr>\n",
       "  </tbody>\n",
       "</table>\n",
       "</div>"
      ],
      "text/plain": [
       "         Pulp Fiction                  Toy Story       Out of Africa  \\\n",
       "0     Reservoir Dogs               A Bug's Life       Becoming Jane    \n",
       "1              Drive             Monsters, Inc.   Mao's Last Dancer    \n",
       "2        Taxi Driver                       Cars             Red Dog    \n",
       "3          Blue Ruin                      Brave             Tootsie    \n",
       "4  The Hateful Eight   The Emperor's New Groove         Miss Potter    \n",
       "\n",
       "  The Fast and the Furious  \n",
       "0               Fast Five   \n",
       "1            District B13   \n",
       "2                     RED   \n",
       "3         The Italian Job   \n",
       "4          Running Scared   "
      ]
     },
     "metadata": {},
     "output_type": "display_data"
    }
   ],
   "source": [
    "targets = ['Pulp Fiction', 'Toy Story', 'Out of Africa', 'The Fast and the Furious']\n",
    "tmp1 = []\n",
    "tmp2 = []\n",
    "for movie in targets:\n",
    "    tmp1.extend([list(recomm_movie(movie,n_top=5,\n",
    "             score_thresh=0, no_sequels=False))])\n",
    "    tmp2.extend([list(recomm_movie(movie,n_top=5,\n",
    "             score_thresh=7, no_sequels=True))])\n",
    "\n",
    "\n",
    "df1 = pd.DataFrame(np.array(tmp1).T, columns=targets)\n",
    "df2 = pd.DataFrame(np.array(tmp3).T, columns=targets)\n",
    "\n",
    "print('Top 5 similar movies without filter')\n",
    "display(df1)\n",
    "print('\\n')\n",
    "print('Top 5 similar movies with filters: \\n No sequel and IMDB score at least 7')\n",
    "display(df2)"
   ]
  },
  {
   "cell_type": "code",
   "execution_count": null,
   "metadata": {},
   "outputs": [],
   "source": []
  },
  {
   "cell_type": "markdown",
   "metadata": {},
   "source": [
    "\n",
    "\n",
    "-------------------------\n",
    "\n",
    "![Winston](winston.png)"
   ]
  },
  {
   "cell_type": "markdown",
   "metadata": {},
   "source": [
    "Here we managed to assess similarities among movies by computing distances on a limited set of categorical variables and we used data standardization and transformations to avoid spurious similarities and make sure that Euclidean distances can actually reflect consistent similarities in movie contents. \n",
    "\n",
    "Of course, our 'recommendation system' would gain in precision with more information.\n",
    "\n",
    "## To go further\n",
    "\n",
    "\n",
    "- **1.enhancement of data enrichment: **\n",
    "Among our variables, 'plot_keywords' could be made more informative by gathering together the keywords with close meanings. A deep NLP analysis followed by a k-means clustering for instance.\n",
    "\n",
    "\n",
    "- **2.enrichment through use of external data: **\n",
    "Obviously, finding some more data would be a way to add more information about the content of the movies to our dataset. Rather than using a few plot keywords, we could work with full resumes of the plot.\n",
    "\n",
    "---------------------------"
   ]
  },
  {
   "cell_type": "code",
   "execution_count": null,
   "metadata": {},
   "outputs": [],
   "source": []
  }
 ],
 "metadata": {
  "kernelspec": {
   "display_name": "Python 3",
   "language": "python",
   "name": "python3"
  },
  "language_info": {
   "codemirror_mode": {
    "name": "ipython",
    "version": 3
   },
   "file_extension": ".py",
   "mimetype": "text/x-python",
   "name": "python",
   "nbconvert_exporter": "python",
   "pygments_lexer": "ipython3",
   "version": "3.6.4"
  }
 },
 "nbformat": 4,
 "nbformat_minor": 2
}
