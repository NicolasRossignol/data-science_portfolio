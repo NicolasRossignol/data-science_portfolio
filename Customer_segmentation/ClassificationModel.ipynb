{
 "cells": [
  {
   "cell_type": "markdown",
   "metadata": {},
   "source": [
    "# Supervised Classification\n",
    "\n",
    "Now that our customer segmentation is done, we will build a model able to predict to which cluster a customer belong based on purchase data\n",
    "\n",
    "We will compare performances of SVM, RandomForest and GradientBoosting algorithms"
   ]
  },
  {
   "cell_type": "code",
   "execution_count": 18,
   "metadata": {},
   "outputs": [],
   "source": [
    "import pandas as pd\n",
    "import numpy as np\n",
    "%matplotlib inline\n",
    "import matplotlib.pyplot as plt\n",
    "\n",
    "import timeit"
   ]
  },
  {
   "cell_type": "code",
   "execution_count": 19,
   "metadata": {},
   "outputs": [],
   "source": [
    "from sklearn.pipeline import Pipeline\n",
    "from sklearn.preprocessing import StandardScaler\n",
    "from sklearn.decomposition import PCA  \n",
    "from sklearn.ensemble import GradientBoostingClassifier\n",
    "from sklearn.svm import LinearSVC\n",
    "from sklearn.ensemble import RandomForestClassifier"
   ]
  },
  {
   "cell_type": "markdown",
   "metadata": {},
   "source": [
    "# Input data: processing"
   ]
  },
  {
   "cell_type": "code",
   "execution_count": 20,
   "metadata": {},
   "outputs": [],
   "source": [
    "## data after feature engineering\n",
    "CustomerTable_fin = pd.read_csv('CustomerTable_fin.csv',index_col=0)\n",
    "### log-scaled data\n",
    "Scaled_CustomerTable = pd.read_csv('Scaled_CustomerTable.csv',index_col=0)"
   ]
  },
  {
   "cell_type": "code",
   "execution_count": 21,
   "metadata": {},
   "outputs": [],
   "source": [
    "from joblib import dump, load\n",
    "# group labels\n",
    "df_labels = load('df_labels_fin.pkl')"
   ]
  },
  {
   "cell_type": "markdown",
   "metadata": {},
   "source": [
    "### split\n",
    "\n",
    "For every model we will use the same split of the data: 25% into test data and stratified to keep similar proportions of each cluster into the two split train and test"
   ]
  },
  {
   "cell_type": "code",
   "execution_count": 13,
   "metadata": {},
   "outputs": [],
   "source": [
    "from sklearn.model_selection import train_test_split\n",
    "\n",
    "X = Scaled_CustomerTable\n",
    "y = df_labels['label_names']\n",
    "\n",
    "X_train, X_test, y_train, y_test = train_test_split(\n",
    "    X, y, test_size=0.25, random_state=100, stratify=y)\n",
    "    #stratify pour garder même proportions de y"
   ]
  },
  {
   "cell_type": "markdown",
   "metadata": {},
   "source": [
    "We will work on the PCA-transformed data but to avoid any data leakage between test and train subsets we integrate scaling and pca computations into a pipeline (sklearn.pipeline) that will be applied on each split independently.\n",
    "\n",
    "`pipe = Pipeline([('scaler', StandardScaler()),\n",
    "                 ('PCA', PCA(n_components=8)),\n",
    "                 ('model',Model_lambda())\n",
    "                 ])`"
   ]
  },
  {
   "cell_type": "markdown",
   "metadata": {},
   "source": [
    "# Dummy classifier"
   ]
  },
  {
   "cell_type": "code",
   "execution_count": 14,
   "metadata": {},
   "outputs": [
    {
     "name": "stdout",
     "output_type": "stream",
     "text": [
      "{'Dummy__strategy': 'most_frequent'}\n",
      "0.4246119733924612\n"
     ]
    }
   ],
   "source": [
    "from sklearn.model_selection import GridSearchCV\n",
    "from sklearn import dummy\n",
    "from sklearn.metrics import accuracy_score\n",
    "\n",
    "\n",
    "pipe = Pipeline([('scaler', StandardScaler()),\n",
    "                 ('PCA', PCA(n_components=8)),\n",
    "                 ('Dummy',dummy.DummyClassifier())\n",
    "                ])\n",
    "pipe.fit(X_train, y_train)\n",
    "\n",
    "param_grid = {\n",
    "    'Dummy__strategy': ['stratified','most_frequent','uniform']\n",
    "}\n",
    "\n",
    "# Instantiate the grid search model\n",
    "grid_dum = GridSearchCV(estimator = pipe, param_grid = param_grid, cv=5)\n",
    "# Fit the grid search to the data\n",
    "grid_dum.fit(X_train,y_train)\n",
    "print(grid_dum.best_params_)\n",
    "\n",
    "\n",
    "y_true, y_pred = y_test, grid_dum.predict(X_test) \n",
    "out_accuracy = accuracy_score(y_true, y_pred)\n",
    "print(out_accuracy)"
   ]
  },
  {
   "cell_type": "markdown",
   "metadata": {},
   "source": [
    "We can choose among different options for the dummy classifier. Here the best result is obtained with the classifier predicting always the most frequent group. His accuracy (~0.42) will serve as a point of comparison for the other models."
   ]
  },
  {
   "cell_type": "code",
   "execution_count": null,
   "metadata": {},
   "outputs": [],
   "source": []
  },
  {
   "cell_type": "markdown",
   "metadata": {},
   "source": [
    "# RandomForest\n",
    "\n",
    "We create a paramater grid to try different values for the hyperparameters\n",
    "The metric used to assess the accuracy is the Kappa score and will guide the optimization process"
   ]
  },
  {
   "cell_type": "code",
   "execution_count": 7,
   "metadata": {},
   "outputs": [
    {
     "name": "stderr",
     "output_type": "stream",
     "text": [
      "C:\\Users\\Nicolas\\Anaconda3\\lib\\site-packages\\sklearn\\ensemble\\forest.py:245: FutureWarning: The default value of n_estimators will change from 10 in version 0.20 to 100 in 0.22.\n",
      "  \"10 in version 0.20 to 100 in 0.22.\", FutureWarning)\n"
     ]
    },
    {
     "name": "stdout",
     "output_type": "stream",
     "text": [
      "Fitting 5 folds for each of 36 candidates, totalling 180 fits\n"
     ]
    },
    {
     "name": "stderr",
     "output_type": "stream",
     "text": [
      "[Parallel(n_jobs=-1)]: Done  33 tasks      | elapsed:   28.4s\n",
      "[Parallel(n_jobs=-1)]: Done 154 tasks      | elapsed:  2.0min\n",
      "[Parallel(n_jobs=-1)]: Done 180 out of 180 | elapsed:  2.5min finished\n"
     ]
    },
    {
     "name": "stdout",
     "output_type": "stream",
     "text": [
      "{'RForest__max_depth': 30, 'RForest__max_features': 4, 'RForest__n_estimators': 800}\n",
      "152.8070625106667\n",
      "Accuracy:  0.9567627494456763\n"
     ]
    }
   ],
   "source": [
    "from sklearn.ensemble import RandomForestClassifier\n",
    "\n",
    "from sklearn.model_selection import GridSearchCV\n",
    "from sklearn.model_selection import StratifiedKFold\n",
    "from sklearn.metrics import cohen_kappa_score, make_scorer, accuracy_score\n",
    "\n",
    "def Rforest_cv(X_train, y_train):\n",
    "    \n",
    "    start_time = timeit.default_timer()\n",
    "\n",
    "    pipe = Pipeline([('scaler', StandardScaler()),\n",
    "                     ('PCA', PCA(n_components=8)),\n",
    "                     ('RForest',RandomForestClassifier(random_state=10))\n",
    "                    ])\n",
    "    pipe.fit(X_train, y_train)\n",
    "\n",
    "    # Create the parameter grid based on the results of random search \n",
    "    param_grid = {\n",
    "        'RForest__max_depth': [30, 40, 60, None],\n",
    "        'RForest__max_features': [2, 3, 4],\n",
    "        'RForest__n_estimators': [500, 800, 1000]\n",
    "    }\n",
    "\n",
    "    kappa_scorer = make_scorer(cohen_kappa_score)\n",
    "    cv = StratifiedKFold(n_splits=5, shuffle=False, random_state=0)\n",
    "\n",
    "    # Instantiate the grid search model\n",
    "    grid_search = GridSearchCV(estimator = pipe, param_grid = param_grid, scoring=kappa_scorer,\n",
    "                              cv = cv, n_jobs = -1, verbose = 2)\n",
    "    # Fit the grid search to the data\n",
    "    grid_search.fit(X_train,y_train)\n",
    "    print(grid_search.best_params_)\n",
    "\n",
    "    elapsed = timeit.default_timer() - start_time\n",
    "    print(elapsed)\n",
    "\n",
    "    y_true, y_pred = y_test, grid_search.predict(X_test)\n",
    "    out_accuracy = accuracy_score(y_true, y_pred)\n",
    "    print('Accuracy: ',out_accuracy)\n",
    "\n",
    "Rforest_cv(X_train, y_train)"
   ]
  },
  {
   "cell_type": "markdown",
   "metadata": {},
   "source": [
    "The best accuracy reached by RandomForest is ~0.96 with\n",
    "- 'RForest__max_depth': 30\n",
    "- 'RForest__max_features': 4\n",
    "- 'RForest__n_estimators': 800"
   ]
  },
  {
   "cell_type": "markdown",
   "metadata": {},
   "source": [
    "# SVM\n",
    "\n",
    "We use the same procedure for the SVC model"
   ]
  },
  {
   "cell_type": "code",
   "execution_count": 16,
   "metadata": {},
   "outputs": [
    {
     "name": "stdout",
     "output_type": "stream",
     "text": [
      "Fitting 5 folds for each of 10 candidates, totalling 50 fits\n"
     ]
    },
    {
     "name": "stderr",
     "output_type": "stream",
     "text": [
      "[Parallel(n_jobs=-1)]: Done  33 tasks      | elapsed:    5.4s\n",
      "[Parallel(n_jobs=-1)]: Done  43 out of  50 | elapsed:    5.6s remaining:    0.8s\n",
      "[Parallel(n_jobs=-1)]: Done  50 out of  50 | elapsed:    5.6s finished\n"
     ]
    },
    {
     "name": "stdout",
     "output_type": "stream",
     "text": [
      "{'SVM__C': 10.0}\n",
      "6.136775945262343\n",
      "Accuracy:  0.9434589800443459\n"
     ]
    }
   ],
   "source": [
    "from sklearn.svm import LinearSVC\n",
    "\n",
    "from sklearn.model_selection import GridSearchCV\n",
    "from sklearn.model_selection import StratifiedKFold\n",
    "from sklearn.metrics import cohen_kappa_score, make_scorer, accuracy_score\n",
    "\n",
    "def SVM_cv(X_train, y_train):\n",
    "    \n",
    "    start_time = timeit.default_timer()\n",
    "\n",
    "    pipe = Pipeline([('scaler', StandardScaler()),\n",
    "                     ('PCA', PCA(n_components=8)),\n",
    "                     ('SVM',LinearSVC(max_iter=10000, dual=False))\n",
    "                    ])\n",
    "    pipe.fit(X_train, y_train)\n",
    "\n",
    "    # Create the parameter grid based on the results of random search \n",
    "    param_grid = {'SVM__C': np.logspace(-3,3,10) }\n",
    "\n",
    "    kappa_scorer = make_scorer(cohen_kappa_score)\n",
    "    cv = StratifiedKFold(n_splits=5, shuffle=False, random_state=0)\n",
    "\n",
    "    # Instantiate the grid search model\n",
    "    grid_search = GridSearchCV(estimator = pipe, param_grid = param_grid, scoring=kappa_scorer,\n",
    "                              cv = cv, n_jobs = -1, verbose = 2)\n",
    "    # Fit the grid search to the data\n",
    "    grid_search.fit(X_train,y_train)\n",
    "    print(grid_search.best_params_)\n",
    "\n",
    "    elapsed = timeit.default_timer() - start_time\n",
    "    print(elapsed)\n",
    "\n",
    "    y_true, y_pred = y_test, grid_search.predict(X_test)\n",
    "    out_accuracy = accuracy_score(y_true, y_pred)\n",
    "    print('Accuracy: ',out_accuracy)\n",
    "\n",
    "SVM_cv(X_train, y_train)"
   ]
  },
  {
   "cell_type": "markdown",
   "metadata": {},
   "source": [
    "The best accuracy reached by SVC model is ~0.94 with\n",
    "- parameter C: 10.0"
   ]
  },
  {
   "cell_type": "markdown",
   "metadata": {},
   "source": [
    "# Gradient Boosting\n",
    "\n",
    "For the GradientBoosting model we will use a \"stump\" (a simple decision tree with only one level) as a weak learner ('max_depth' set to one)\n",
    "In the parameter grid we will explore different values for numbers of learners and learning rate"
   ]
  },
  {
   "cell_type": "code",
   "execution_count": 10,
   "metadata": {},
   "outputs": [
    {
     "name": "stdout",
     "output_type": "stream",
     "text": [
      "Fitting 5 folds for each of 4 candidates, totalling 20 fits\n"
     ]
    },
    {
     "name": "stderr",
     "output_type": "stream",
     "text": [
      "[Parallel(n_jobs=-1)]: Done  20 out of  20 | elapsed:   26.5s finished\n"
     ]
    },
    {
     "name": "stdout",
     "output_type": "stream",
     "text": [
      "{'GBoost__learning_rate': 0.1, 'GBoost__n_estimators': 1000}\n",
      "34.14533722247222\n",
      "Accuracy:  0.9778270509977827\n"
     ]
    }
   ],
   "source": [
    "from sklearn.ensemble import GradientBoostingClassifier\n",
    "\n",
    "from sklearn.model_selection import GridSearchCV\n",
    "from sklearn.model_selection import StratifiedKFold\n",
    "from sklearn.metrics import cohen_kappa_score, make_scorer, accuracy_score\n",
    "\n",
    "def GBoost_cv(X_train, y_train):\n",
    "    \n",
    "    start_time = timeit.default_timer()\n",
    "\n",
    "    pipe = Pipeline([('scaler', StandardScaler()),\n",
    "                     ('PCA', PCA(n_components=8)),\n",
    "                     ('GBoost',GradientBoostingClassifier(max_depth=1, random_state=0))\n",
    "                    ])\n",
    "    pipe.fit(X_train, y_train)\n",
    "\n",
    "    # Create the parameter grid based on the results of random search \n",
    "    param_grid = {'GBoost__n_estimators': [500, 1000],\n",
    "                  'GBoost__learning_rate': [0.1,1.0]                 \n",
    "                 }\n",
    "\n",
    "    kappa_scorer = make_scorer(cohen_kappa_score)\n",
    "    cv = StratifiedKFold(n_splits=5, shuffle=False, random_state=0)\n",
    "\n",
    "    # Instantiate the grid search model\n",
    "    grid_search = GridSearchCV(estimator = pipe, param_grid = param_grid, scoring=kappa_scorer,\n",
    "                              cv = cv, n_jobs = -1, verbose = 2)\n",
    "    # Fit the grid search to the data\n",
    "    grid_search.fit(X_train,y_train)\n",
    "    print(grid_search.best_params_)\n",
    "\n",
    "    elapsed = timeit.default_timer() - start_time\n",
    "    print(elapsed)\n",
    "\n",
    "    y_true, y_pred = y_test, grid_search.predict(X_test)\n",
    "    out_accuracy = accuracy_score(y_true, y_pred)\n",
    "    print('Accuracy: ',out_accuracy)\n",
    "    \n",
    "    return(grid_search)\n",
    "\n",
    "model = GBoost_cv(X_train, y_train)"
   ]
  },
  {
   "cell_type": "markdown",
   "metadata": {},
   "source": [
    "The best accuracy reached by GradientBoosting model is ~0.98 with\n",
    "- 'GBoost__learning_rate': 0.1\n",
    "- 'GBoost__n_estimators': 1000"
   ]
  },
  {
   "cell_type": "code",
   "execution_count": null,
   "metadata": {},
   "outputs": [],
   "source": []
  },
  {
   "cell_type": "markdown",
   "metadata": {},
   "source": [
    "After model fitting and hyperparameter selection:\n",
    "\n",
    "- RandomForest accuracy 0.957\n",
    "- SVC accuracy          0.939\n",
    "- GradientBoosting acc. 0.978\n",
    "\n",
    "GradientBoosting model had the best performances we keep this model."
   ]
  },
  {
   "cell_type": "code",
   "execution_count": 11,
   "metadata": {},
   "outputs": [
    {
     "data": {
      "text/plain": [
       "['GBref_model.pkl']"
      ]
     },
     "execution_count": 11,
     "metadata": {},
     "output_type": "execute_result"
    }
   ],
   "source": [
    "dump(model,'GBref_model.pkl')"
   ]
  },
  {
   "cell_type": "markdown",
   "metadata": {},
   "source": [
    "### Nested Cross-Validation"
   ]
  },
  {
   "cell_type": "markdown",
   "metadata": {},
   "source": [
    "I want to try an algorithm of 'nested cross-validation' to assess how the performances of the model change when the test fold changes.\n",
    "\n",
    "We start with the whole datatset. \n",
    "At each rotation, one fold (10%) is assigned to test, 9 other folds are used for the cross-validation procedure (one validation fold and 8 folds for training). At the end of each of the ten rotations, the model with the best validation score is assessed on the test set."
   ]
  },
  {
   "cell_type": "code",
   "execution_count": 12,
   "metadata": {},
   "outputs": [
    {
     "name": "stdout",
     "output_type": "stream",
     "text": [
      "Nested Cross-Validation on 10-folds dataset (split train-validation-test) \n",
      "\n",
      "Rotation  1\n",
      "Rotation  2\n",
      "Rotation  3\n",
      "Rotation  4\n",
      "Rotation  5\n",
      "Rotation  6\n",
      "Rotation  7\n",
      "Rotation  8\n",
      "Rotation  9\n",
      "Rotation  10\n"
     ]
    },
    {
     "data": {
      "text/html": [
       "<div>\n",
       "<style scoped>\n",
       "    .dataframe tbody tr th:only-of-type {\n",
       "        vertical-align: middle;\n",
       "    }\n",
       "\n",
       "    .dataframe tbody tr th {\n",
       "        vertical-align: top;\n",
       "    }\n",
       "\n",
       "    .dataframe thead tr th {\n",
       "        text-align: left;\n",
       "    }\n",
       "\n",
       "    .dataframe thead tr:last-of-type th {\n",
       "        text-align: right;\n",
       "    }\n",
       "</style>\n",
       "<table border=\"1\" class=\"dataframe\">\n",
       "  <thead>\n",
       "    <tr>\n",
       "      <th></th>\n",
       "      <th></th>\n",
       "      <th colspan=\"3\" halign=\"left\">best validation score</th>\n",
       "      <th colspan=\"3\" halign=\"left\">accuracy (test)</th>\n",
       "      <th colspan=\"3\" halign=\"left\">Kappa (test)</th>\n",
       "    </tr>\n",
       "    <tr>\n",
       "      <th></th>\n",
       "      <th></th>\n",
       "      <th>max</th>\n",
       "      <th>mean</th>\n",
       "      <th>&lt;lambda&gt;</th>\n",
       "      <th>max</th>\n",
       "      <th>mean</th>\n",
       "      <th>std</th>\n",
       "      <th>max</th>\n",
       "      <th>mean</th>\n",
       "      <th>std</th>\n",
       "    </tr>\n",
       "    <tr>\n",
       "      <th>GBoost__learning_rate</th>\n",
       "      <th>GBoost__n_estimators</th>\n",
       "      <th></th>\n",
       "      <th></th>\n",
       "      <th></th>\n",
       "      <th></th>\n",
       "      <th></th>\n",
       "      <th></th>\n",
       "      <th></th>\n",
       "      <th></th>\n",
       "      <th></th>\n",
       "    </tr>\n",
       "  </thead>\n",
       "  <tbody>\n",
       "    <tr>\n",
       "      <th rowspan=\"2\" valign=\"top\">0.1</th>\n",
       "      <th>500</th>\n",
       "      <td>0.960701</td>\n",
       "      <td>0.959677</td>\n",
       "      <td>2.0</td>\n",
       "      <td>0.963989</td>\n",
       "      <td>0.958578</td>\n",
       "      <td>0.007652</td>\n",
       "      <td>0.950776</td>\n",
       "      <td>0.943315</td>\n",
       "      <td>0.010551</td>\n",
       "    </tr>\n",
       "    <tr>\n",
       "      <th>1000</th>\n",
       "      <td>0.965460</td>\n",
       "      <td>0.959001</td>\n",
       "      <td>8.0</td>\n",
       "      <td>0.991643</td>\n",
       "      <td>0.971893</td>\n",
       "      <td>0.012909</td>\n",
       "      <td>0.988567</td>\n",
       "      <td>0.961567</td>\n",
       "      <td>0.017621</td>\n",
       "    </tr>\n",
       "  </tbody>\n",
       "</table>\n",
       "</div>"
      ],
      "text/plain": [
       "                                           best validation score            \\\n",
       "                                                             max      mean   \n",
       "GBoost__learning_rate GBoost__n_estimators                                   \n",
       "0.1                   500                               0.960701  0.959677   \n",
       "                      1000                              0.965460  0.959001   \n",
       "\n",
       "                                                    accuracy (test)            \\\n",
       "                                           <lambda>             max      mean   \n",
       "GBoost__learning_rate GBoost__n_estimators                                      \n",
       "0.1                   500                       2.0        0.963989  0.958578   \n",
       "                      1000                      8.0        0.991643  0.971893   \n",
       "\n",
       "                                                     Kappa (test)            \\\n",
       "                                                 std          max      mean   \n",
       "GBoost__learning_rate GBoost__n_estimators                                    \n",
       "0.1                   500                   0.007652     0.950776  0.943315   \n",
       "                      1000                  0.012909     0.988567  0.961567   \n",
       "\n",
       "                                                      \n",
       "                                                 std  \n",
       "GBoost__learning_rate GBoost__n_estimators            \n",
       "0.1                   500                   0.010551  \n",
       "                      1000                  0.017621  "
      ]
     },
     "metadata": {},
     "output_type": "display_data"
    },
    {
     "name": "stdout",
     "output_type": "stream",
     "text": [
      "elapsed time:  1781.1527277240777\n"
     ]
    }
   ],
   "source": [
    "from sklearn.preprocessing import StandardScaler\n",
    "from sklearn.decomposition import PCA   \n",
    "from sklearn.pipeline import Pipeline\n",
    "from sklearn.ensemble import GradientBoostingClassifier\n",
    "from sklearn.model_selection import GridSearchCV, cross_val_score, train_test_split, StratifiedKFold\n",
    "from sklearn.metrics import cohen_kappa_score, make_scorer, accuracy_score\n",
    "import timeit\n",
    "\n",
    "### data used for algorithm\n",
    "XX = X\n",
    "yy = y\n",
    "n_folds = 10\n",
    "verbose = False\n",
    "start_time = timeit.default_timer()\n",
    "\n",
    "outer_cv = StratifiedKFold(n_splits=n_folds, random_state=42)\n",
    "inner_cv = StratifiedKFold(n_splits=n_folds-1, random_state=42)\n",
    "scorer = make_scorer(cohen_kappa_score)\n",
    "\n",
    "pipe = Pipeline([('scaler', StandardScaler()),\n",
    "                 ('PCA', PCA(n_components=8)),\n",
    "                 ('GBoost',GradientBoostingClassifier(max_depth=1,random_state=0))\n",
    "                ])\n",
    "\n",
    "# Create the parameter grid based on the results of random search \n",
    "param_grid = {'GBoost__n_estimators': [500,1000],\n",
    "              'GBoost__learning_rate': [0.1,1]             \n",
    "             }\n",
    "\n",
    "result = pd.DataFrame()\n",
    "evaluation = pd.DataFrame()\n",
    "n_rotation = 1\n",
    "print('Nested Cross-Validation on {}-folds dataset (split train-validation-test) \\n'.format(n_folds))\n",
    "#outer loop - n_folds loops\n",
    "for train_index, test_index in outer_cv.split(XX, yy):\n",
    "    X_train, X_test = XX.iloc[train_index], XX.iloc[test_index]\n",
    "    y_train, y_test = yy.iloc[train_index], yy.iloc[test_index]\n",
    "    \n",
    "    pipe.fit(X_train,y_train)\n",
    "    model = GridSearchCV(estimator=pipe, param_grid=param_grid, cv=inner_cv, scoring=scorer)\n",
    "    model.fit(X_train, y_train)\n",
    "    \n",
    "    result = pd.concat([result,\n",
    "                       pd.DataFrame([model.best_params_.values()],\n",
    "                                    columns=model.best_params_.keys(),\n",
    "                                   index=[n_rotation])])\n",
    "    y_true, y_pred = y_test, model.predict(X_test)\n",
    "    dict_eval = {'best validation score': model.best_score_,\n",
    "                 'accuracy (test)': accuracy_score(y_true, y_pred),\n",
    "                 'Kappa (test)': cohen_kappa_score(y_true, y_pred)\n",
    "                }\n",
    "    evaluation = pd.concat([evaluation,\n",
    "                           pd.DataFrame([dict_eval.values()],\n",
    "                                    columns=dict_eval.keys(),\n",
    "                                   index=[n_rotation])])\n",
    "    print('Rotation ',n_rotation)\n",
    "    if verbose:\n",
    "        print('best model parameters: ',model.best_params_)\n",
    "        for key in dict_eval.keys():\n",
    "            print(key,': ',dict_eval[key])\n",
    "        print('***********************')\n",
    "        print('\\n')\n",
    "    n_rotation+=1\n",
    "\n",
    "display(evaluation.groupby([result['GBoost__learning_rate'],result['GBoost__n_estimators']]).agg({\n",
    "    'best validation score': ['max','mean',lambda x: len(x)],\n",
    "    'accuracy (test)': ['max', 'mean','std'],\n",
    "    'Kappa (test)': ['max', 'mean','std']\n",
    "}))\n",
    "elapsed = timeit.default_timer() - start_time\n",
    "print('elapsed time: ',elapsed)"
   ]
  },
  {
   "cell_type": "markdown",
   "metadata": {},
   "source": [
    "Out of the 10 rotations, the model {learning_rate:0.1, n_estimators:1000} obtained the best performance 8 times. His performance on the test set is:\n",
    "- Mean Accuracy 0.972 (+/- 0.0129 SD)\n",
    "- Mean Cohen's Kappa 0.962 (+/- 0.0176 SD)\n",
    "\n",
    "Nested cross-validation algorithms are known to give rather optimistic evaluation of performance. Here, this procedure is used to gain a higher level of confidence in the choice of the final hyperparmater values. I will repeat the procedure with a 0.2 learning rate value."
   ]
  },
  {
   "cell_type": "code",
   "execution_count": null,
   "metadata": {},
   "outputs": [],
   "source": [
    "from sklearn.preprocessing import StandardScaler\n",
    "from sklearn.decomposition import PCA   \n",
    "from sklearn.pipeline import Pipeline\n",
    "from sklearn.ensemble import GradientBoostingClassifier\n",
    "from sklearn.model_selection import GridSearchCV, cross_val_score, train_test_split, StratifiedKFold\n",
    "from sklearn.metrics import cohen_kappa_score, make_scorer, accuracy_score\n",
    "import timeit\n",
    "\n",
    "### data used for algorithm\n",
    "XX = X\n",
    "yy = y\n",
    "n_folds = 10\n",
    "verbose = False\n",
    "start_time = timeit.default_timer()\n",
    "\n",
    "outer_cv = StratifiedKFold(n_splits=n_folds, random_state=42)\n",
    "inner_cv = StratifiedKFold(n_splits=n_folds-1, random_state=42)\n",
    "scorer = make_scorer(cohen_kappa_score)\n",
    "\n",
    "pipe = Pipeline([('scaler', StandardScaler()),\n",
    "                 ('PCA', PCA(n_components=8)),\n",
    "                 ('GBoost',GradientBoostingClassifier(max_depth=1, n_estimators=1000,\n",
    "                                                      random_state=0))\n",
    "                ])\n",
    "\n",
    "# Create the parameter grid based on the results of random search \n",
    "param_grid = {'GBoost__learning_rate': [0.01, 0.1, 0.2, 1]  }\n",
    "\n",
    "result = pd.DataFrame()\n",
    "evaluation = pd.DataFrame()\n",
    "n_rotation = 1\n",
    "print('Nested Cross-Validation on {}-folds dataset (split train-validation-test) \\n'.format(n_folds))\n",
    "#outer loop - n_folds loops\n",
    "for train_index, test_index in outer_cv.split(XX, yy):\n",
    "    X_train, X_test = XX.iloc[train_index], XX.iloc[test_index]\n",
    "    y_train, y_test = yy.iloc[train_index], yy.iloc[test_index]\n",
    "    \n",
    "    pipe.fit(X_train,y_train)\n",
    "    model = GridSearchCV(estimator=pipe, param_grid=param_grid, cv=inner_cv, scoring=scorer)\n",
    "    model.fit(X_train, y_train)\n",
    "    \n",
    "    result = pd.concat([result,\n",
    "                       pd.DataFrame([model.best_params_.values()],\n",
    "                                    columns=model.best_params_.keys(),\n",
    "                                   index=[n_rotation])])\n",
    "    y_true, y_pred = y_test, model.predict(X_test)\n",
    "    dict_eval = {'best validation score': model.best_score_,\n",
    "                 'accuracy (test)': accuracy_score(y_true, y_pred),\n",
    "                 'Kappa (test)': cohen_kappa_score(y_true, y_pred)\n",
    "                }\n",
    "    evaluation = pd.concat([evaluation,\n",
    "                           pd.DataFrame([dict_eval.values()],\n",
    "                                    columns=dict_eval.keys(),\n",
    "                                   index=[n_rotation])])\n",
    "    print('Rotation ',n_rotation)\n",
    "    if verbose:\n",
    "        print('best model parameters: ',model.best_params_)\n",
    "        for key in dict_eval.keys():\n",
    "            print(key,': ',dict_eval[key])\n",
    "        print('***********************')\n",
    "        print('\\n')\n",
    "    n_rotation+=1\n",
    "\n",
    "display(evaluation.groupby([result['GBoost__learning_rate']]).agg({\n",
    "    'best validation score': ['max','mean',lambda x: len(x)],\n",
    "    'accuracy (test)': ['max', 'mean','std'],\n",
    "    'Kappa (test)': ['max', 'mean','std']\n",
    "}))\n",
    "elapsed = timeit.default_timer() - start_time\n",
    "print('elapsed time: ',elapsed)"
   ]
  },
  {
   "cell_type": "code",
   "execution_count": 11,
   "metadata": {},
   "outputs": [
    {
     "data": {
      "text/html": [
       "<div>\n",
       "<style scoped>\n",
       "    .dataframe tbody tr th:only-of-type {\n",
       "        vertical-align: middle;\n",
       "    }\n",
       "\n",
       "    .dataframe tbody tr th {\n",
       "        vertical-align: top;\n",
       "    }\n",
       "\n",
       "    .dataframe thead tr th {\n",
       "        text-align: left;\n",
       "    }\n",
       "\n",
       "    .dataframe thead tr:last-of-type th {\n",
       "        text-align: right;\n",
       "    }\n",
       "</style>\n",
       "<table border=\"1\" class=\"dataframe\">\n",
       "  <thead>\n",
       "    <tr>\n",
       "      <th></th>\n",
       "      <th colspan=\"3\" halign=\"left\">best validation score</th>\n",
       "      <th colspan=\"3\" halign=\"left\">accuracy (test)</th>\n",
       "      <th colspan=\"3\" halign=\"left\">Kappa (test)</th>\n",
       "    </tr>\n",
       "    <tr>\n",
       "      <th></th>\n",
       "      <th>max</th>\n",
       "      <th>mean</th>\n",
       "      <th>&lt;lambda&gt;</th>\n",
       "      <th>max</th>\n",
       "      <th>mean</th>\n",
       "      <th>std</th>\n",
       "      <th>max</th>\n",
       "      <th>mean</th>\n",
       "      <th>std</th>\n",
       "    </tr>\n",
       "    <tr>\n",
       "      <th>GBoost__learning_rate</th>\n",
       "      <th></th>\n",
       "      <th></th>\n",
       "      <th></th>\n",
       "      <th></th>\n",
       "      <th></th>\n",
       "      <th></th>\n",
       "      <th></th>\n",
       "      <th></th>\n",
       "      <th></th>\n",
       "    </tr>\n",
       "  </thead>\n",
       "  <tbody>\n",
       "    <tr>\n",
       "      <th>0.1</th>\n",
       "      <td>0.961260</td>\n",
       "      <td>0.958383</td>\n",
       "      <td>8.0</td>\n",
       "      <td>0.988889</td>\n",
       "      <td>0.971261</td>\n",
       "      <td>0.010090</td>\n",
       "      <td>0.984766</td>\n",
       "      <td>0.960718</td>\n",
       "      <td>0.013792</td>\n",
       "    </tr>\n",
       "    <tr>\n",
       "      <th>0.2</th>\n",
       "      <td>0.965048</td>\n",
       "      <td>0.960196</td>\n",
       "      <td>2.0</td>\n",
       "      <td>0.963889</td>\n",
       "      <td>0.959722</td>\n",
       "      <td>0.005893</td>\n",
       "      <td>0.950582</td>\n",
       "      <td>0.944896</td>\n",
       "      <td>0.008042</td>\n",
       "    </tr>\n",
       "  </tbody>\n",
       "</table>\n",
       "</div>"
      ],
      "text/plain": [
       "                      best validation score                     \\\n",
       "                                        max      mean <lambda>   \n",
       "GBoost__learning_rate                                            \n",
       "0.1                                0.961260  0.958383      8.0   \n",
       "0.2                                0.965048  0.960196      2.0   \n",
       "\n",
       "                      accuracy (test)                     Kappa (test)  \\\n",
       "                                  max      mean       std          max   \n",
       "GBoost__learning_rate                                                    \n",
       "0.1                          0.988889  0.971261  0.010090     0.984766   \n",
       "0.2                          0.963889  0.959722  0.005893     0.950582   \n",
       "\n",
       "                                           \n",
       "                           mean       std  \n",
       "GBoost__learning_rate                      \n",
       "0.1                    0.960718  0.013792  \n",
       "0.2                    0.944896  0.008042  "
      ]
     },
     "metadata": {},
     "output_type": "display_data"
    }
   ],
   "source": [
    "display(evaluation.groupby([result['GBoost__learning_rate']]).agg({\n",
    "    'best validation score': ['max','mean',lambda x: len(x)],\n",
    "    'accuracy (test)': ['max', 'mean','std'],\n",
    "    'Kappa (test)': ['max', 'mean','std']\n",
    "}))"
   ]
  },
  {
   "cell_type": "markdown",
   "metadata": {},
   "source": [
    "After repeating the procedure, the model with 0.1 learning rate is still the best model."
   ]
  },
  {
   "cell_type": "markdown",
   "metadata": {},
   "source": [
    "### Repeated Randomized split test/train to assess variance of model performance\n",
    "\n",
    "The 3 models (RForest, SVC, GBoosting), were trained on a 0.75/0.25 train/test split of the data fixed with the seed random_state=100\n",
    "\n",
    "The performance can change slightly with the random seed used. We will repeat the tarining procedure 100 times with different seeds to to assess the range of variation"
   ]
  },
  {
   "cell_type": "code",
   "execution_count": 22,
   "metadata": {},
   "outputs": [
    {
     "name": "stdout",
     "output_type": "stream",
     "text": [
      "elapsed:  1171.9756579212758\n",
      "mean GB accuracy (+-SD): 0.969(+-0.0056)\n",
      "mean RF accuracy (+-SD): 0.959(+-0.0073)\n",
      "mean SVC accuracy (+-SD): 0.951(+-0.0077)\n"
     ]
    }
   ],
   "source": [
    "from sklearn.model_selection import train_test_split\n",
    "start_time = timeit.default_timer()\n",
    "pipe_gb = Pipeline([('scaler', StandardScaler()),('PCA', PCA(n_components=8)),\n",
    "                 ('GBoost',GradientBoostingClassifier(max_depth=1, random_state=0,\n",
    "                                                      learning_rate=0.1, n_estimators=1000))\n",
    "                    ])\n",
    "pipe_rf = Pipeline([('scaler', StandardScaler()),('PCA', PCA(n_components=8)),\n",
    "                 ('GBoost',RandomForestClassifier(max_depth=30, random_state=10,\n",
    "                                                      max_features=4, n_estimators=800))\n",
    "                    ])\n",
    "pipe_svc = Pipeline([('scaler', StandardScaler()),('PCA', PCA(n_components=8)),\n",
    "                 ('GBoost',LinearSVC(C=10, dual=False, max_iter=10000))\n",
    "                    ])\n",
    "res_gb = []\n",
    "res_rf = []\n",
    "res_svc = []\n",
    "for i in np.random.randint(1000, size=100):\n",
    "    \n",
    "    ## split data (random_state, test_size, stratify =[y,None])    \n",
    "    X_train2, X_test2, y_train2, y_test2 = train_test_split(X, y, test_size=0.25,\n",
    "                                                        random_state=i, stratify=y)\n",
    "    pipe_gb.fit(X_train2,y_train2)\n",
    "    pipe_rf.fit(X_train2,y_train2)\n",
    "    pipe_svc.fit(X_train2,y_train2)\n",
    "    \n",
    "    res_gb.extend([accuracy_score(y_test2, pipe_gb.predict(X_test2))])\n",
    "    res_rf.extend([accuracy_score(y_test2, pipe_rf.predict(X_test2))])\n",
    "    res_svc.extend([accuracy_score(y_test2, pipe_svc.predict(X_test2))])\n",
    "print('elapsed: ', timeit.default_timer() - start_time)\n",
    "print('mean GB accuracy (+-SD): {}(+-{})'.format(round(np.mean(res_gb),3),round(np.std(res_gb),4)))\n",
    "print('mean RF accuracy (+-SD): {}(+-{})'.format(round(np.mean(res_rf),3),round(np.std(res_rf),4)))\n",
    "print('mean SVC accuracy (+-SD): {}(+-{})'.format(round(np.mean(res_svc),3),round(np.std(res_svc),4)))"
   ]
  },
  {
   "cell_type": "code",
   "execution_count": 25,
   "metadata": {},
   "outputs": [
    {
     "data": {
      "image/png": "[encoded data removed]",
      "text/plain": [
       "<matplotlib.figure.Figure at 0x189d7722588>"
      ]
     },
     "metadata": {},
     "output_type": "display_data"
    }
   ],
   "source": [
    "plt.figure(figsize = (15,5))\n",
    "plt.hist(res_svc,bins=10, label= 'SVC')\n",
    "plt.hist(res_rf,bins=10, label='RForest')\n",
    "plt.hist(res_gb,bins=10, label='GBoost')\n",
    "\n",
    "plt.plot([0.969]*2,[0,30],ls='--', label='ref Model')\n",
    "plt.plot([0.42350332594235035]*2,[0,30],ls='--', label='Dummy Most Frequent')\n",
    "plt.legend(loc='upper center')\n",
    "plt.xlim(0.4,1)\n",
    "plt.title('Distribution of models accuracy scores')\n",
    "plt.show()"
   ]
  },
  {
   "cell_type": "code",
   "execution_count": 26,
   "metadata": {},
   "outputs": [
    {
     "data": {
      "image/png": "[encoded data removed]",
      "text/plain": [
       "<matplotlib.figure.Figure at 0x189d7a79748>"
      ]
     },
     "metadata": {},
     "output_type": "display_data"
    }
   ],
   "source": [
    "bb = 10\n",
    "\n",
    "plt.figure(figsize = (15,5))\n",
    "plt.hist(res_svc, bins=bb, label= 'SVC')\n",
    "plt.hist(res_rf,bins=bb, label='RForest')\n",
    "plt.hist(res_gb,bins=bb, label='GBoost')\n",
    "\n",
    "plt.plot([0.9689578713968958]*2,[0,30],ls='--', label='ref Model')\n",
    "plt.plot([0.42350332594235035]*2,[0,30],ls='--', label='Dummy Most Frequent')\n",
    "plt.legend()\n",
    "plt.xlim(0.8,1)\n",
    "plt.title('Distribution of models accuracy scores')\n",
    "plt.show()"
   ]
  },
  {
   "cell_type": "markdown",
   "metadata": {},
   "source": [
    "### Confusion Matrix\n",
    "\n",
    "Finally we compute the confusion matrix to display how the potential errors of predictions are distributed amon categories"
   ]
  },
  {
   "cell_type": "code",
   "execution_count": null,
   "metadata": {},
   "outputs": [],
   "source": [
    "## split initial\n",
    "X_train, X_test, y_train, y_test = train_test_split(\n",
    "    X, y, test_size=0.25, random_state=100, stratify=y)"
   ]
  },
  {
   "cell_type": "code",
   "execution_count": 28,
   "metadata": {},
   "outputs": [
    {
     "name": "stdout",
     "output_type": "stream",
     "text": [
      "Confusion matrix, without normalization\n",
      "[[ 91   0   1   0   0]\n",
      " [  0 157   3   1   2]\n",
      " [  1   0 381   1   0]\n",
      " [  2   0   7 151   1]\n",
      " [  0   1   0   0 102]]\n"
     ]
    },
    {
     "data": {
      "image/png": "[encoded data removed]",
      "text/plain": [
       "<matplotlib.figure.Figure at 0x189d7871ef0>"
      ]
     },
     "metadata": {},
     "output_type": "display_data"
    }
   ],
   "source": [
    "from utils import plot_confusion_matrix\n",
    "from sklearn.metrics import confusion_matrix\n",
    "\n",
    "model = load('GBref_model.pkl')\n",
    "y_true, y_pred = y_test, model.predict(X_test)\n",
    "cmat1 = confusion_matrix(y_true, y_pred, labels=df_labels['label_names'].unique())\n",
    "\n",
    "# Plot non-normalized confusion matrix\n",
    "plt.figure()\n",
    "plot_confusion_matrix(cmat1, classes=df_labels['label_names'].unique(),\n",
    "                      title='Confusion matrix, without normalization')"
   ]
  },
  {
   "cell_type": "markdown",
   "metadata": {},
   "source": [
    "The predictive power of the GradientBoosting model is quite satisfying"
   ]
  },
  {
   "cell_type": "code",
   "execution_count": 36,
   "metadata": {},
   "outputs": [
    {
     "name": "stdout",
     "output_type": "stream",
     "text": [
      "                    precision    recall  f1-score   support\n",
      "\n",
      "  Det_generalistes       0.97      0.99      0.98       382\n",
      "   Det_specifiques       0.97      0.95      0.96       161\n",
      "      Det_testeurs       0.96      0.94      0.95       103\n",
      "     Gross_fideles       0.97      0.96      0.97       163\n",
      "Gross_occasionnels       0.96      0.97      0.96        93\n",
      "\n",
      "       avg / total       0.97      0.97      0.97       902\n",
      "\n"
     ]
    }
   ],
   "source": [
    "from sklearn.metrics import classification_report\n",
    "print(classification_report(y_true, y_pred))"
   ]
  },
  {
   "cell_type": "code",
   "execution_count": null,
   "metadata": {},
   "outputs": [],
   "source": []
  }
 ],
 "metadata": {
  "kernelspec": {
   "display_name": "Python 3",
   "language": "python",
   "name": "python3"
  },
  "language_info": {
   "codemirror_mode": {
    "name": "ipython",
    "version": 3
   },
   "file_extension": ".py",
   "mimetype": "text/x-python",
   "name": "python",
   "nbconvert_exporter": "python",
   "pygments_lexer": "ipython3",
   "version": "3.6.4"
  }
 },
 "nbformat": 4,
 "nbformat_minor": 2
}
